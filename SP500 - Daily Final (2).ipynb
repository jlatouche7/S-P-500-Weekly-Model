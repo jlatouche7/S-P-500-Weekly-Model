{
 "cells": [
  {
   "cell_type": "markdown",
   "id": "60e0d63b-ce5b-41f4-b16e-0d3768d6fb61",
   "metadata": {},
   "source": [
    "PREDICTING THE S&P500"
   ]
  },
  {
   "cell_type": "markdown",
   "id": "04b1180c-b915-4154-9d8f-fe06ae5d1277",
   "metadata": {},
   "source": [
    "In my exploratory data analysis I fit several models based on weekly S&P 500 Data, I found that all of my models struggled to achieve any actual predictive power. My theory is that weekly data is effective for the normal week to week movements of the index, but I believe it struggles to capture the whole picture of the big movements. In 1 week the market can drastically change and a model only containing weekly data would really struggle to understand these movements. This inspired me to compile a dataset of daily data from the S&P 500 over the last 10 years that will hopefully allow me to capture the full picture of the data. My goal is to build a series of models and find one with ACTUAL predictive power, that can aid small companies in making and maintaing conviction in their financial decisions"
   ]
  },
  {
   "cell_type": "code",
   "execution_count": 371,
   "id": "663179d3-9f7a-420f-a134-2adced0656e5",
   "metadata": {},
   "outputs": [],
   "source": [
    "import pandas as pd\n",
    "import matplotlib.pyplot as plt\n",
    "import numpy as np\n",
    "import warnings\n",
    "from sklearn.pipeline import Pipeline, make_pipeline\n",
    "from sklearn.linear_model import LinearRegression, Ridge, Lasso\n",
    "from sklearn.preprocessing import PolynomialFeatures, OneHotEncoder, OrdinalEncoder, StandardScaler,MinMaxScaler\n",
    "from sklearn.metrics import mean_squared_error\n",
    "from sklearn.feature_selection import SequentialFeatureSelector, SelectFromModel\n",
    "from sklearn.pipeline import Pipeline\n",
    "from statsmodels.tsa.stattools import adfuller\n",
    "from sklearn import set_config\n",
    "from sklearn.model_selection import train_test_split, GridSearchCV\n",
    "from sklearn.impute import SimpleImputer\n",
    "from sklearn.compose import ColumnTransformer\n",
    "import matplotlib.pyplot as plt\n",
    "import seaborn as sns\n",
    "import plotly.express as px\n",
    "from scipy import stats\n",
    "import tensorflow as tf\n",
    "from tensorflow import keras\n",
    "import statsmodels.api as sm\n",
    "from statsmodels.tsa.filters.filtertools import convolution_filter\n",
    "from statsmodels.tsa.statespace.sarimax import SARIMAX\n",
    "import statsmodels.graphics.tsaplots as tsplots\n",
    "from statsmodels.tsa.seasonal import seasonal_decompose, STL\n",
    "from statsmodels.tsa.forecasting.stl import STLForecast\n",
    "from statsmodels.tsa.arima.model import ARIMA\n",
    "from statsmodels.graphics.tsaplots import plot_acf, plot_pacf\n",
    "import statsmodels.graphics.tsaplots as tsaplots\n",
    "import warnings\n",
    "warnings.filterwarnings(\"ignore\")"
   ]
  },
  {
   "cell_type": "code",
   "execution_count": 372,
   "id": "10a26fee-d3ec-405a-8f2c-951676f73cc9",
   "metadata": {},
   "outputs": [],
   "source": [
    "data = pd.read_csv('data/SP500dailydata.csv')"
   ]
  },
  {
   "cell_type": "code",
   "execution_count": 373,
   "id": "43fb5242-5280-4cd8-91f7-2372506789d2",
   "metadata": {},
   "outputs": [
    {
     "name": "stdout",
     "output_type": "stream",
     "text": [
      "<class 'pandas.core.frame.DataFrame'>\n",
      "RangeIndex: 2502 entries, 0 to 2501\n",
      "Data columns (total 7 columns):\n",
      " #   Column                 Non-Null Count  Dtype  \n",
      "---  ------                 --------------  -----  \n",
      " 0   Date                   2501 non-null   object \n",
      " 1   sp_500_prev_day_close  2501 non-null   float64\n",
      " 2   vix_prev_day           2501 non-null   float64\n",
      " 3   nasdaq_prev_day        2501 non-null   float64\n",
      " 4   russell_2000_prev_day  2501 non-null   float64\n",
      " 5   prev_volume            2502 non-null   int64  \n",
      " 6   close_price            2501 non-null   float64\n",
      "dtypes: float64(5), int64(1), object(1)\n",
      "memory usage: 137.0+ KB\n"
     ]
    },
    {
     "data": {
      "text/html": [
       "<div>\n",
       "<style scoped>\n",
       "    .dataframe tbody tr th:only-of-type {\n",
       "        vertical-align: middle;\n",
       "    }\n",
       "\n",
       "    .dataframe tbody tr th {\n",
       "        vertical-align: top;\n",
       "    }\n",
       "\n",
       "    .dataframe thead th {\n",
       "        text-align: right;\n",
       "    }\n",
       "</style>\n",
       "<table border=\"1\" class=\"dataframe\">\n",
       "  <thead>\n",
       "    <tr style=\"text-align: right;\">\n",
       "      <th></th>\n",
       "      <th>sp_500_prev_day_close</th>\n",
       "      <th>vix_prev_day</th>\n",
       "      <th>nasdaq_prev_day</th>\n",
       "      <th>russell_2000_prev_day</th>\n",
       "      <th>prev_volume</th>\n",
       "      <th>close_price</th>\n",
       "    </tr>\n",
       "    <tr>\n",
       "      <th>Date</th>\n",
       "      <th></th>\n",
       "      <th></th>\n",
       "      <th></th>\n",
       "      <th></th>\n",
       "      <th></th>\n",
       "      <th></th>\n",
       "    </tr>\n",
       "  </thead>\n",
       "  <tbody>\n",
       "    <tr>\n",
       "      <th>2025-01-03</th>\n",
       "      <td>5868.55</td>\n",
       "      <td>17.93</td>\n",
       "      <td>19280.79</td>\n",
       "      <td>23.72</td>\n",
       "      <td>50203980</td>\n",
       "      <td>5942.47</td>\n",
       "    </tr>\n",
       "    <tr>\n",
       "      <th>2023-05-18</th>\n",
       "      <td>4158.77</td>\n",
       "      <td>16.87</td>\n",
       "      <td>12500.57</td>\n",
       "      <td>22.54</td>\n",
       "      <td>87286961</td>\n",
       "      <td>4198.05</td>\n",
       "    </tr>\n",
       "    <tr>\n",
       "      <th>2016-04-01</th>\n",
       "      <td>2059.74</td>\n",
       "      <td>13.95</td>\n",
       "      <td>4869.85</td>\n",
       "      <td>18.28</td>\n",
       "      <td>94584109</td>\n",
       "      <td>2072.78</td>\n",
       "    </tr>\n",
       "    <tr>\n",
       "      <th>2017-01-06</th>\n",
       "      <td>2269.00</td>\n",
       "      <td>11.67</td>\n",
       "      <td>5487.94</td>\n",
       "      <td>18.26</td>\n",
       "      <td>78379008</td>\n",
       "      <td>2276.98</td>\n",
       "    </tr>\n",
       "    <tr>\n",
       "      <th>2021-03-16</th>\n",
       "      <td>3968.94</td>\n",
       "      <td>20.03</td>\n",
       "      <td>13459.71</td>\n",
       "      <td>30.24</td>\n",
       "      <td>73592305</td>\n",
       "      <td>3962.71</td>\n",
       "    </tr>\n",
       "    <tr>\n",
       "      <th>2016-11-23</th>\n",
       "      <td>2202.94</td>\n",
       "      <td>12.41</td>\n",
       "      <td>5386.35</td>\n",
       "      <td>17.97</td>\n",
       "      <td>67428961</td>\n",
       "      <td>2204.72</td>\n",
       "    </tr>\n",
       "    <tr>\n",
       "      <th>2021-03-23</th>\n",
       "      <td>3940.59</td>\n",
       "      <td>18.88</td>\n",
       "      <td>13377.54</td>\n",
       "      <td>28.18</td>\n",
       "      <td>73778648</td>\n",
       "      <td>3910.52</td>\n",
       "    </tr>\n",
       "    <tr>\n",
       "      <th>2020-02-11</th>\n",
       "      <td>3352.09</td>\n",
       "      <td>15.04</td>\n",
       "      <td>9628.39</td>\n",
       "      <td>16.97</td>\n",
       "      <td>42070008</td>\n",
       "      <td>3357.75</td>\n",
       "    </tr>\n",
       "    <tr>\n",
       "      <th>2020-05-01</th>\n",
       "      <td>2912.43</td>\n",
       "      <td>34.15</td>\n",
       "      <td>8889.55</td>\n",
       "      <td>42.62</td>\n",
       "      <td>122901695</td>\n",
       "      <td>2830.71</td>\n",
       "    </tr>\n",
       "    <tr>\n",
       "      <th>2025-04-28</th>\n",
       "      <td>5525.21</td>\n",
       "      <td>24.84</td>\n",
       "      <td>17382.94</td>\n",
       "      <td>30.14</td>\n",
       "      <td>61119594</td>\n",
       "      <td>5528.75</td>\n",
       "    </tr>\n",
       "  </tbody>\n",
       "</table>\n",
       "</div>"
      ],
      "text/plain": [
       "            sp_500_prev_day_close  vix_prev_day  nasdaq_prev_day  \\\n",
       "Date                                                               \n",
       "2025-01-03                5868.55         17.93         19280.79   \n",
       "2023-05-18                4158.77         16.87         12500.57   \n",
       "2016-04-01                2059.74         13.95          4869.85   \n",
       "2017-01-06                2269.00         11.67          5487.94   \n",
       "2021-03-16                3968.94         20.03         13459.71   \n",
       "2016-11-23                2202.94         12.41          5386.35   \n",
       "2021-03-23                3940.59         18.88         13377.54   \n",
       "2020-02-11                3352.09         15.04          9628.39   \n",
       "2020-05-01                2912.43         34.15          8889.55   \n",
       "2025-04-28                5525.21         24.84         17382.94   \n",
       "\n",
       "            russell_2000_prev_day  prev_volume  close_price  \n",
       "Date                                                         \n",
       "2025-01-03                  23.72     50203980      5942.47  \n",
       "2023-05-18                  22.54     87286961      4198.05  \n",
       "2016-04-01                  18.28     94584109      2072.78  \n",
       "2017-01-06                  18.26     78379008      2276.98  \n",
       "2021-03-16                  30.24     73592305      3962.71  \n",
       "2016-11-23                  17.97     67428961      2204.72  \n",
       "2021-03-23                  28.18     73778648      3910.52  \n",
       "2020-02-11                  16.97     42070008      3357.75  \n",
       "2020-05-01                  42.62    122901695      2830.71  \n",
       "2025-04-28                  30.14     61119594      5528.75  "
      ]
     },
     "execution_count": 373,
     "metadata": {},
     "output_type": "execute_result"
    }
   ],
   "source": [
    "data.info()\n",
    "data['Date'] = pd.to_datetime(data['Date'])\n",
    "data = data.set_index(data['Date'])\n",
    "data= data.drop('Date',axis=1)\n",
    "data= data.dropna()\n",
    "data.sample(10)"
   ]
  },
  {
   "cell_type": "markdown",
   "id": "861cb434-e7ed-4b68-afc7-41a7e32f733f",
   "metadata": {},
   "source": [
    "Below I created a column for log returns, log returns are stationary- making then more easily digestible for time series models."
   ]
  },
  {
   "cell_type": "code",
   "execution_count": 374,
   "id": "5f98d4ca-d158-40c3-bae2-800f72bf923d",
   "metadata": {},
   "outputs": [],
   "source": [
    "data['log_returns'] = np.log(data['close_price']).diff().dropna()\n",
    "data['points_change'] = data['close_price'].diff().dropna()\n",
    "data= data.dropna()"
   ]
  },
  {
   "cell_type": "code",
   "execution_count": 375,
   "id": "6ef7b99b-4fd1-44e6-a44f-01787d6e0d59",
   "metadata": {},
   "outputs": [
    {
     "name": "stdout",
     "output_type": "stream",
     "text": [
      "<class 'pandas.core.frame.DataFrame'>\n",
      "DatetimeIndex: 2500 entries, 2015-09-01 to 2025-08-11\n",
      "Data columns (total 8 columns):\n",
      " #   Column                 Non-Null Count  Dtype  \n",
      "---  ------                 --------------  -----  \n",
      " 0   sp_500_prev_day_close  2500 non-null   float64\n",
      " 1   vix_prev_day           2500 non-null   float64\n",
      " 2   nasdaq_prev_day        2500 non-null   float64\n",
      " 3   russell_2000_prev_day  2500 non-null   float64\n",
      " 4   prev_volume            2500 non-null   int64  \n",
      " 5   close_price            2500 non-null   float64\n",
      " 6   log_returns            2500 non-null   float64\n",
      " 7   points_change          2500 non-null   float64\n",
      "dtypes: float64(7), int64(1)\n",
      "memory usage: 175.8 KB\n"
     ]
    }
   ],
   "source": [
    "data['prev_volume']=data['prev_volume'].astype(int)\n",
    "data.info()"
   ]
  },
  {
   "cell_type": "markdown",
   "id": "5806e410-0e3c-4d8d-91c2-4fc8709f83a8",
   "metadata": {},
   "source": [
    "Below I will take the average of the absolute value of the daily change in points and also the standard deviation of Log Returns which will give us metrics to compare our models to:"
   ]
  },
  {
   "cell_type": "code",
   "execution_count": null,
   "id": "a3b4fd58-0e12-4391-93e5-2542ca6e99c9",
   "metadata": {},
   "outputs": [],
   "source": []
  },
  {
   "cell_type": "code",
   "execution_count": 376,
   "id": "56e8e3f5-e091-4798-9488-5c9903e20664",
   "metadata": {},
   "outputs": [
    {
     "data": {
      "text/plain": [
       "Text(0, 0.5, 'Weekly Closing Price ($)')"
      ]
     },
     "execution_count": 376,
     "metadata": {},
     "output_type": "execute_result"
    },
    {
     "data": {
      "image/png": "[encoded data removed]",
      "text/plain": [
       "<Figure size 640x480 with 1 Axes>"
      ]
     },
     "metadata": {},
     "output_type": "display_data"
    }
   ],
   "source": [
    "#This plot shows the weekly closing price of the S&P500 since 1982\n",
    "plt.plot(data['close_price'])\n",
    "plt.title('Weekly S&P 500 Closing Price')\n",
    "plt.xlabel('Year')\n",
    "plt.ylabel('Weekly Closing Price ($)')"
   ]
  },
  {
   "cell_type": "code",
   "execution_count": 377,
   "id": "51651584-3fa0-43ee-9d36-5351e949bbf8",
   "metadata": {},
   "outputs": [
    {
     "data": {
      "text/plain": [
       "Text(0, 0.5, 'Change in Price')"
      ]
     },
     "execution_count": 377,
     "metadata": {},
     "output_type": "execute_result"
    },
    {
     "data": {
      "image/png": "[encoded data removed]",
      "text/plain": [
       "<Figure size 640x480 with 1 Axes>"
      ]
     },
     "metadata": {},
     "output_type": "display_data"
    }
   ],
   "source": [
    "#This plot shows the weekly returns of the S&P500 in %\n",
    "plt.plot(data['points_change'])\n",
    "plt.title('Weekly S&P 500 Returns')\n",
    "plt.xlabel('Year')\n",
    "plt.ylabel('Change in Price')"
   ]
  },
  {
   "cell_type": "markdown",
   "id": "300dc056-669b-41f7-a088-4ed614ccb4fe",
   "metadata": {},
   "source": [
    "Now i'll start preparing the data for modeling: Rather than predicting the actual price of the S&P500, or its simple returns, i have opted to predict log returns. Log returns I believe will be easier for both the model and myself to interpret. Log Returns should be closer to a normal distrubution, which should make it easier to interpret for the models. Also they are easy to transform, after the fact, to dollar amounts."
   ]
  },
  {
   "cell_type": "code",
   "execution_count": 378,
   "id": "012714ad-128a-4198-b823-417219a405c6",
   "metadata": {},
   "outputs": [],
   "source": [
    "X=data.drop(['close_price','log_returns','points_change'],axis=1)\n",
    "y=data['log_returns']"
   ]
  },
  {
   "cell_type": "markdown",
   "id": "d6e153ed-38c3-4a15-aee1-7992114b4eaf",
   "metadata": {},
   "source": [
    "Now I will make an initial Linear Regression. Linear Regressions aren't typically used to model time series data, so I am using this as somewhat of a baseline to see how it will perform. I don't expect this model to be accurate at all, but it will give us an idea of how nuanced financial data is and how crucial the sequential aspect is of it."
   ]
  },
  {
   "cell_type": "code",
   "execution_count": 379,
   "id": "7355d799-fffc-4884-89db-1912181fb600",
   "metadata": {},
   "outputs": [],
   "source": [
    "X_train, X_test, y_train, y_test = train_test_split(X,y,test_size=0.20,random_state=42,shuffle=False)"
   ]
  },
  {
   "cell_type": "markdown",
   "id": "b0e2d3e5-6d9d-4935-b081-fd8324ac0090",
   "metadata": {},
   "source": [
    "Below I have transformed the data to make it stationary. This data will be more suitable to the time series models which perform best with stationary data."
   ]
  },
  {
   "cell_type": "code",
   "execution_count": 380,
   "id": "564270c8-4fd6-4bc8-8173-2c41eca99ab5",
   "metadata": {},
   "outputs": [],
   "source": [
    "X1_train = X_train.diff().dropna()\n",
    "X1_test = X_test.diff().dropna()\n",
    "y1_train = y_train.loc['2015-9-2':]\n",
    "y1_test = y_test.loc['2023-8-15':]"
   ]
  },
  {
   "cell_type": "code",
   "execution_count": 381,
   "id": "22d5da33-3618-4404-86bd-95249a5052fc",
   "metadata": {},
   "outputs": [],
   "source": [
    "numerical=['sp_500_prev_day_close','vix_prev_day','nasdaq_prev_day','russell_2000_prev_day','prev_volume']"
   ]
  },
  {
   "cell_type": "code",
   "execution_count": 382,
   "id": "2b5ad1ff-3114-4a72-aa78-7aa16f1b2a3e",
   "metadata": {},
   "outputs": [],
   "source": [
    "# This is the transformer for my regression model, it will transform and scale the data to hopefully fit the data better.\n",
    "polytransformer = Pipeline([        \n",
    "                                    ('poly',PolynomialFeatures(degree = 3,include_bias=False)),\n",
    "                                    ('scale',StandardScaler())\n",
    "                                ])\n",
    "transformer = [('polynomialtransformations',polytransformer,numerical)]\n",
    "transform = ColumnTransformer(transformers = transformer,remainder='passthrough')"
   ]
  },
  {
   "cell_type": "markdown",
   "id": "a108334b-1bdd-49e2-8d7e-24148d766ab6",
   "metadata": {},
   "source": [
    "I have decided to forgo removing/filling any outliers, my thought is that because of the nature of financial data, outliers are important datapoints for the model to understand in this circumstance. For example, although the rapid changes during COVID are definitely outliers, rapid changes like this do happen in financial markets, so I believe the models should be aware of what they look like."
   ]
  },
  {
   "cell_type": "code",
   "execution_count": 383,
   "id": "6dcf9805-986b-4f13-901e-3f14e4b6ba00",
   "metadata": {},
   "outputs": [],
   "source": [
    "initialpipe = Pipeline([\n",
    "    ('transform',transform),\n",
    "    ('reg',LinearRegression())\n",
    "])\n"
   ]
  },
  {
   "cell_type": "code",
   "execution_count": 384,
   "id": "918e444b-09e4-43ea-bbe9-96cbb97cd292",
   "metadata": {},
   "outputs": [],
   "source": [
    "linreg = initialpipe.fit(X1_train,y1_train)"
   ]
  },
  {
   "cell_type": "code",
   "execution_count": 385,
   "id": "c70ef2a6-fbfa-4dca-b202-fa25c2af13b5",
   "metadata": {},
   "outputs": [],
   "source": [
    "linreg_train_preds = linreg.predict(X1_train)\n",
    "linreg_test_preds = linreg.predict(X1_test)\n",
    "linregtrainerror = mean_squared_error(linreg_train_preds,y1_train)\n",
    "linregerror = mean_squared_error(linreg_test_preds,y1_test)\n"
   ]
  },
  {
   "cell_type": "markdown",
   "id": "89b36dc7-8bdf-4f10-b907-74d89397f213",
   "metadata": {},
   "source": [
    "Now that our model is trained, I have decided to use Root Mean Squared Error (RMSE) as the test metric for all of my models. I decided to use RMSE for two main reasons:\n",
    "\n",
    "    1) Penalizing Errors:  In financial modeling there is not much room for large errors as a predicition with a large             error could lead to a catastrophic financial decisions. RMSE penalizes large errors naturally, making it ideal for          financial modeling. \n",
    "    \n",
    "    2) Interpretability: It operates on the same units as my original target variable. This makes it easy to understand how        the model is performing. Although it is using log odds, it is easily convertible afterwards."
   ]
  },
  {
   "cell_type": "code",
   "execution_count": 386,
   "id": "a8a206e3-6bdd-4347-ac5a-5a0b4c400a8c",
   "metadata": {},
   "outputs": [
    {
     "name": "stdout",
     "output_type": "stream",
     "text": [
      "The training RMSE is: 0.010659599574605657\n",
      "The test RMSE is: 0.013687552786950854\n"
     ]
    }
   ],
   "source": [
    "# BELOW IS THE RMSE OF OUR INITIAL FUNCTION \n",
    "print(f\"The training RMSE is: {np.sqrt(linregtrainerror)}\")\n",
    "print(f\"The test RMSE is: {np.sqrt(linregerror)}\")"
   ]
  },
  {
   "cell_type": "markdown",
   "id": "274a9f4c-3bbd-4f6b-a6a3-4368ebea417c",
   "metadata": {},
   "source": [
    "Below I will take the standard deviation of Log Returns which will give us a metric to compare our model against to determine if it has predictive power, or if we would be better off just looking at the mean"
   ]
  },
  {
   "cell_type": "code",
   "execution_count": 387,
   "id": "b5d5f54b-e149-43bd-948c-8cccd9b59c53",
   "metadata": {},
   "outputs": [
    {
     "name": "stdout",
     "output_type": "stream",
     "text": [
      "Std deviation of log returns: 0.010131610891123933\n"
     ]
    }
   ],
   "source": [
    "stdevlogreturns=y1_test.std()\n",
    "print(f\"Std deviation of log returns: {stdevlogreturns}\")\n"
   ]
  },
  {
   "cell_type": "markdown",
   "id": "89fb2333-edc7-46bd-b355-61688d94dbb4",
   "metadata": {},
   "source": [
    "This standard linear regression gave us an RMSE of 167.29, which is much better than how it performed on the weekly data. This shows that on average the Linear Regression can predict the close price for the current week of the S&P 500 within 167.29 points, which is not an effective model , seeing as the average daily change is about 26.08. This is happening because the linear regression is not meant to handle sequential data like this. When you think about how quickly financial changes can happen like during COVID and in 2008, it makes sense that the model can't predict forward multiple years of how the S&P 500 is going to move."
   ]
  },
  {
   "cell_type": "markdown",
   "id": "8d06a582-0351-4d94-8bcf-65b819383067",
   "metadata": {},
   "source": [
    "Now that we have seen how poorly a standard linear regression performs, I will build a true baseline model, called a Random Walk, that will actually give us some information to base our proceeding models off of. "
   ]
  },
  {
   "cell_type": "code",
   "execution_count": null,
   "id": "957daf88-0272-4a11-b5ab-78465f867c08",
   "metadata": {},
   "outputs": [],
   "source": []
  },
  {
   "cell_type": "code",
   "execution_count": 388,
   "id": "557cf58a-6e4b-4fd5-bca0-a9c204493f9b",
   "metadata": {},
   "outputs": [
    {
     "data": {
      "image/png": "[encoded data removed]",
      "text/plain": [
       "<Figure size 1600x500 with 2 Axes>"
      ]
     },
     "metadata": {},
     "output_type": "display_data"
    }
   ],
   "source": [
    "fig, ax = plt.subplots(1, 2, figsize = (16, 5))\n",
    "plot_acf(y_train, ax = ax[0]);\n",
    "ax[0].grid()\n",
    "plot_pacf(y_train, ax = ax[1], method = 'ywm');\n",
    "ax[1].grid()"
   ]
  },
  {
   "cell_type": "code",
   "execution_count": 389,
   "id": "2fa5cc46-8ad0-4732-b7e0-36a6a8ba230f",
   "metadata": {},
   "outputs": [],
   "source": [
    "randomwalk = SARIMAX(y1_train, order=(0, 1, 0), trend='c').fit()"
   ]
  },
  {
   "cell_type": "code",
   "execution_count": 390,
   "id": "56ee37db-8c82-4464-9a56-1f3377c177c3",
   "metadata": {},
   "outputs": [
    {
     "name": "stdout",
     "output_type": "stream",
     "text": [
      "1999   -0.001080\n",
      "2000   -0.001089\n",
      "2001   -0.001099\n",
      "2002   -0.001109\n",
      "2003   -0.001118\n",
      "          ...   \n",
      "2493   -0.005826\n",
      "2494   -0.005836\n",
      "2495   -0.005846\n",
      "2496   -0.005855\n",
      "2497   -0.005865\n",
      "Name: predicted_mean, Length: 499, dtype: float64\n",
      "0.00012178862368798614\n",
      " RMSE: 0.011035788312938326\n"
     ]
    }
   ],
   "source": [
    "start_index = len(y1_train)\n",
    "end_index = len(y1_train) + len(y1_test) - 1\n",
    "randomwalk_preds = randomwalk.predict(start=start_index, end=end_index,dynamic=True)\n",
    "random_mse_test = mean_squared_error(randomwalk_preds, y1_test)\n",
    "### ANSWER CHECK\n",
    "print(randomwalk_preds)\n",
    "print(random_mse_test)\n",
    "print(f\" RMSE: {np.sqrt(random_mse_test)}\")"
   ]
  },
  {
   "cell_type": "markdown",
   "id": "bd72251a-2149-4352-8edd-6ff46df7ee58",
   "metadata": {},
   "source": [
    "The Random Walk gave us a baseline RMSE of .028, which is above the std dev of log returns, meaning that the model is not actually predictive."
   ]
  },
  {
   "cell_type": "code",
   "execution_count": 391,
   "id": "33e90414-3054-4cd0-a649-85ea79ce59df",
   "metadata": {},
   "outputs": [],
   "source": [
    "arma = ARIMA(y1_train, order = (1, 0, 1)).fit()"
   ]
  },
  {
   "cell_type": "code",
   "execution_count": 413,
   "id": "be9a7d8b-f497-4831-8705-f33fdcca4890",
   "metadata": {},
   "outputs": [
    {
     "name": "stdout",
     "output_type": "stream",
     "text": [
      "1999    0.000719\n",
      "2000    0.000274\n",
      "2001    0.000488\n",
      "2002    0.000385\n",
      "2003    0.000435\n",
      "          ...   \n",
      "2493    0.000419\n",
      "2494    0.000419\n",
      "2495    0.000419\n",
      "2496    0.000419\n",
      "2497    0.000419\n",
      "Name: predicted_mean, Length: 499, dtype: float64\n",
      " RMSE: 0.010125989165586317\n"
     ]
    }
   ],
   "source": [
    "start_index = len(y1_train)\n",
    "end_index = len(y1_train) + len(y1_test) - 1\n",
    "preds = arma.predict(start=start_index, end=end_index,dynamic=True)\n",
    "mse_test = mean_squared_error(preds, y1_test)\n",
    "### ANSWER CHECK\n",
    "print(preds)\n",
    "print(f\" RMSE: {np.sqrt(mse_test)}\")"
   ]
  },
  {
   "cell_type": "code",
   "execution_count": 393,
   "id": "ec9b57be-0fc8-40a3-921d-7bbae6d3f560",
   "metadata": {},
   "outputs": [
    {
     "data": {
      "text/plain": [
       "2198    0.000419\n",
       "2199    0.000419\n",
       "2200    0.000419\n",
       "2201    0.000419\n",
       "2202    0.000419\n",
       "          ...   \n",
       "2493    0.000419\n",
       "2494    0.000419\n",
       "2495    0.000419\n",
       "2496    0.000419\n",
       "2497    0.000419\n",
       "Name: predicted_mean, Length: 300, dtype: float64"
      ]
     },
     "execution_count": 393,
     "metadata": {},
     "output_type": "execute_result"
    }
   ],
   "source": [
    "preds.tail(300)"
   ]
  },
  {
   "cell_type": "markdown",
   "id": "3ad258e8-dfef-478d-b3d5-f231c3b318a1",
   "metadata": {},
   "source": [
    "Below I am building a SARIMAX model, it is a similar concept to the ARIMA I built previously, but allows me to pass through exogenous data like data from other indicies and economic factors. My hope is that this model will be able to combine the sequential nature of the data and the economic data and be able to effectively predict using both. "
   ]
  },
  {
   "cell_type": "code",
   "execution_count": 394,
   "id": "2c96f06c-6694-4a13-92b9-45f12b023c1a",
   "metadata": {},
   "outputs": [],
   "source": [
    "sarimax = SARIMAX(y1_train,exog=X1_train,  order=(1, 0, 1), seasonal_order=(0, 0, 0, 0)).fit()"
   ]
  },
  {
   "cell_type": "code",
   "execution_count": 395,
   "id": "0c6154ce-eb90-4c92-90b9-b02820dce000",
   "metadata": {},
   "outputs": [
    {
     "data": {
      "text/html": [
       "<table class=\"simpletable\">\n",
       "<caption>SARIMAX Results</caption>\n",
       "<tr>\n",
       "  <th>Dep. Variable:</th>      <td>log_returns</td>   <th>  No. Observations:  </th>    <td>1999</td>   \n",
       "</tr>\n",
       "<tr>\n",
       "  <th>Model:</th>           <td>SARIMAX(1, 0, 1)</td> <th>  Log Likelihood     </th>  <td>6063.724</td> \n",
       "</tr>\n",
       "<tr>\n",
       "  <th>Date:</th>            <td>Tue, 12 Aug 2025</td> <th>  AIC                </th> <td>-12111.449</td>\n",
       "</tr>\n",
       "<tr>\n",
       "  <th>Time:</th>                <td>13:52:09</td>     <th>  BIC                </th> <td>-12066.645</td>\n",
       "</tr>\n",
       "<tr>\n",
       "  <th>Sample:</th>                  <td>0</td>        <th>  HQIC               </th> <td>-12094.997</td>\n",
       "</tr>\n",
       "<tr>\n",
       "  <th></th>                      <td> - 1999</td>     <th>                     </th>      <td> </td>    \n",
       "</tr>\n",
       "<tr>\n",
       "  <th>Covariance Type:</th>        <td>opg</td>       <th>                     </th>      <td> </td>    \n",
       "</tr>\n",
       "</table>\n",
       "<table class=\"simpletable\">\n",
       "<tr>\n",
       "            <td></td>               <th>coef</th>     <th>std err</th>      <th>z</th>      <th>P>|z|</th>  <th>[0.025</th>    <th>0.975]</th>  \n",
       "</tr>\n",
       "<tr>\n",
       "  <th>sp_500_prev_day_close</th> <td>-5.392e-05</td> <td> 1.27e-05</td> <td>   -4.255</td> <td> 0.000</td> <td>-7.88e-05</td> <td>-2.91e-05</td>\n",
       "</tr>\n",
       "<tr>\n",
       "  <th>vix_prev_day</th>          <td>   -0.0006</td> <td> 5.33e-05</td> <td>  -10.540</td> <td> 0.000</td> <td>   -0.001</td> <td>   -0.000</td>\n",
       "</tr>\n",
       "<tr>\n",
       "  <th>nasdaq_prev_day</th>       <td> 1.537e-05</td> <td> 4.02e-06</td> <td>    3.820</td> <td> 0.000</td> <td> 7.49e-06</td> <td> 2.33e-05</td>\n",
       "</tr>\n",
       "<tr>\n",
       "  <th>russell_2000_prev_day</th> <td>    0.0017</td> <td> 5.07e-05</td> <td>   33.209</td> <td> 0.000</td> <td>    0.002</td> <td>    0.002</td>\n",
       "</tr>\n",
       "<tr>\n",
       "  <th>prev_volume</th>           <td>-1.077e-13</td> <td> 6.71e-12</td> <td>   -0.016</td> <td> 0.987</td> <td>-1.33e-11</td> <td>  1.3e-11</td>\n",
       "</tr>\n",
       "<tr>\n",
       "  <th>ar.L1</th>                 <td>    0.0712</td> <td> 5.85e-09</td> <td> 1.22e+07</td> <td> 0.000</td> <td>    0.071</td> <td>    0.071</td>\n",
       "</tr>\n",
       "<tr>\n",
       "  <th>ma.L1</th>                 <td>   -0.0709</td> <td> 5.81e-09</td> <td>-1.22e+07</td> <td> 0.000</td> <td>   -0.071</td> <td>   -0.071</td>\n",
       "</tr>\n",
       "<tr>\n",
       "  <th>sigma2</th>                <td>    0.0001</td> <td> 1.63e-06</td> <td>   83.386</td> <td> 0.000</td> <td>    0.000</td> <td>    0.000</td>\n",
       "</tr>\n",
       "</table>\n",
       "<table class=\"simpletable\">\n",
       "<tr>\n",
       "  <th>Ljung-Box (L1) (Q):</th>     <td>0.00</td> <th>  Jarque-Bera (JB):  </th> <td>13958.97</td>\n",
       "</tr>\n",
       "<tr>\n",
       "  <th>Prob(Q):</th>                <td>0.96</td> <th>  Prob(JB):          </th>   <td>0.00</td>  \n",
       "</tr>\n",
       "<tr>\n",
       "  <th>Heteroskedasticity (H):</th> <td>2.10</td> <th>  Skew:              </th>   <td>-0.91</td> \n",
       "</tr>\n",
       "<tr>\n",
       "  <th>Prob(H) (two-sided):</th>    <td>0.00</td> <th>  Kurtosis:          </th>   <td>15.82</td> \n",
       "</tr>\n",
       "</table><br/><br/>Warnings:<br/>[1] Covariance matrix calculated using the outer product of gradients (complex-step).<br/>[2] Covariance matrix is singular or near-singular, with condition number 6.18e+23. Standard errors may be unstable."
      ],
      "text/latex": [
       "\\begin{center}\n",
       "\\begin{tabular}{lclc}\n",
       "\\toprule\n",
       "\\textbf{Dep. Variable:}            &   log\\_returns   & \\textbf{  No. Observations:  } &    1999     \\\\\n",
       "\\textbf{Model:}                    & SARIMAX(1, 0, 1) & \\textbf{  Log Likelihood     } &  6063.724   \\\\\n",
       "\\textbf{Date:}                     & Tue, 12 Aug 2025 & \\textbf{  AIC                } & -12111.449  \\\\\n",
       "\\textbf{Time:}                     &     13:52:09     & \\textbf{  BIC                } & -12066.645  \\\\\n",
       "\\textbf{Sample:}                   &        0         & \\textbf{  HQIC               } & -12094.997  \\\\\n",
       "\\textbf{}                          &      - 1999      & \\textbf{                     } &             \\\\\n",
       "\\textbf{Covariance Type:}          &       opg        & \\textbf{                     } &             \\\\\n",
       "\\bottomrule\n",
       "\\end{tabular}\n",
       "\\begin{tabular}{lcccccc}\n",
       "                                   & \\textbf{coef} & \\textbf{std err} & \\textbf{z} & \\textbf{P$> |$z$|$} & \\textbf{[0.025} & \\textbf{0.975]}  \\\\\n",
       "\\midrule\n",
       "\\textbf{sp\\_500\\_prev\\_day\\_close} &   -5.392e-05  &     1.27e-05     &    -4.255  &         0.000        &    -7.88e-05    &    -2.91e-05     \\\\\n",
       "\\textbf{vix\\_prev\\_day}            &      -0.0006  &     5.33e-05     &   -10.540  &         0.000        &       -0.001    &       -0.000     \\\\\n",
       "\\textbf{nasdaq\\_prev\\_day}         &    1.537e-05  &     4.02e-06     &     3.820  &         0.000        &     7.49e-06    &     2.33e-05     \\\\\n",
       "\\textbf{russell\\_2000\\_prev\\_day}  &       0.0017  &     5.07e-05     &    33.209  &         0.000        &        0.002    &        0.002     \\\\\n",
       "\\textbf{prev\\_volume}              &   -1.077e-13  &     6.71e-12     &    -0.016  &         0.987        &    -1.33e-11    &      1.3e-11     \\\\\n",
       "\\textbf{ar.L1}                     &       0.0712  &     5.85e-09     &  1.22e+07  &         0.000        &        0.071    &        0.071     \\\\\n",
       "\\textbf{ma.L1}                     &      -0.0709  &     5.81e-09     & -1.22e+07  &         0.000        &       -0.071    &       -0.071     \\\\\n",
       "\\textbf{sigma2}                    &       0.0001  &     1.63e-06     &    83.386  &         0.000        &        0.000    &        0.000     \\\\\n",
       "\\bottomrule\n",
       "\\end{tabular}\n",
       "\\begin{tabular}{lclc}\n",
       "\\textbf{Ljung-Box (L1) (Q):}     & 0.00 & \\textbf{  Jarque-Bera (JB):  } & 13958.97  \\\\\n",
       "\\textbf{Prob(Q):}                & 0.96 & \\textbf{  Prob(JB):          } &   0.00    \\\\\n",
       "\\textbf{Heteroskedasticity (H):} & 2.10 & \\textbf{  Skew:              } &  -0.91    \\\\\n",
       "\\textbf{Prob(H) (two-sided):}    & 0.00 & \\textbf{  Kurtosis:          } &  15.82    \\\\\n",
       "\\bottomrule\n",
       "\\end{tabular}\n",
       "%\\caption{SARIMAX Results}\n",
       "\\end{center}\n",
       "\n",
       "Warnings: \\newline\n",
       " [1] Covariance matrix calculated using the outer product of gradients (complex-step). \\newline\n",
       " [2] Covariance matrix is singular or near-singular, with condition number 6.18e+23. Standard errors may be unstable."
      ],
      "text/plain": [
       "<class 'statsmodels.iolib.summary.Summary'>\n",
       "\"\"\"\n",
       "                               SARIMAX Results                                \n",
       "==============================================================================\n",
       "Dep. Variable:            log_returns   No. Observations:                 1999\n",
       "Model:               SARIMAX(1, 0, 1)   Log Likelihood                6063.724\n",
       "Date:                Tue, 12 Aug 2025   AIC                         -12111.449\n",
       "Time:                        13:52:09   BIC                         -12066.645\n",
       "Sample:                             0   HQIC                        -12094.997\n",
       "                               - 1999                                         \n",
       "Covariance Type:                  opg                                         \n",
       "=========================================================================================\n",
       "                            coef    std err          z      P>|z|      [0.025      0.975]\n",
       "-----------------------------------------------------------------------------------------\n",
       "sp_500_prev_day_close -5.392e-05   1.27e-05     -4.255      0.000   -7.88e-05   -2.91e-05\n",
       "vix_prev_day             -0.0006   5.33e-05    -10.540      0.000      -0.001      -0.000\n",
       "nasdaq_prev_day        1.537e-05   4.02e-06      3.820      0.000    7.49e-06    2.33e-05\n",
       "russell_2000_prev_day     0.0017   5.07e-05     33.209      0.000       0.002       0.002\n",
       "prev_volume           -1.077e-13   6.71e-12     -0.016      0.987   -1.33e-11     1.3e-11\n",
       "ar.L1                     0.0712   5.85e-09   1.22e+07      0.000       0.071       0.071\n",
       "ma.L1                    -0.0709   5.81e-09  -1.22e+07      0.000      -0.071      -0.071\n",
       "sigma2                    0.0001   1.63e-06     83.386      0.000       0.000       0.000\n",
       "===================================================================================\n",
       "Ljung-Box (L1) (Q):                   0.00   Jarque-Bera (JB):             13958.97\n",
       "Prob(Q):                              0.96   Prob(JB):                         0.00\n",
       "Heteroskedasticity (H):               2.10   Skew:                            -0.91\n",
       "Prob(H) (two-sided):                  0.00   Kurtosis:                        15.82\n",
       "===================================================================================\n",
       "\n",
       "Warnings:\n",
       "[1] Covariance matrix calculated using the outer product of gradients (complex-step).\n",
       "[2] Covariance matrix is singular or near-singular, with condition number 6.18e+23. Standard errors may be unstable.\n",
       "\"\"\""
      ]
     },
     "execution_count": 395,
     "metadata": {},
     "output_type": "execute_result"
    }
   ],
   "source": [
    "sarimax.summary()"
   ]
  },
  {
   "cell_type": "code",
   "execution_count": 396,
   "id": "56464ab5-5568-46ef-a118-ab18f69a288e",
   "metadata": {},
   "outputs": [
    {
     "name": "stdout",
     "output_type": "stream",
     "text": [
      "1999    0.000801\n",
      "2000    0.001222\n",
      "2001    0.000048\n",
      "2002    0.000634\n",
      "2003   -0.001012\n",
      "          ...   \n",
      "2493   -0.001266\n",
      "2494   -0.000465\n",
      "2495    0.001078\n",
      "2496    0.001393\n",
      "2497   -0.000432\n",
      "Name: predicted_mean, Length: 499, dtype: float64\n",
      "0.00010914466356971054\n"
     ]
    }
   ],
   "source": [
    "sarimax_start_index = len(y1_train)\n",
    "sarimax_end_index = len(y1_train) + len(y1_test) - 1\n",
    "sarimax_preds = sarimax.predict(start=start_index, end=end_index, exog=X1_test,dynamic=True)\n",
    "sarimax_mse_test = mean_squared_error(sarimax_preds, y1_test)\n",
    "### ANSWER CHECK\n",
    "print(sarimax_preds)\n",
    "print(sarimax_mse_test)"
   ]
  },
  {
   "cell_type": "code",
   "execution_count": 397,
   "id": "5c201470-254d-4f2a-bad2-db6dc4e6ff23",
   "metadata": {},
   "outputs": [
    {
     "name": "stdout",
     "output_type": "stream",
     "text": [
      " RMSE: 0.010447232340180367\n"
     ]
    }
   ],
   "source": [
    "print(f\" RMSE: {np.sqrt(sarimax_mse_test)}\")"
   ]
  },
  {
   "cell_type": "code",
   "execution_count": 398,
   "id": "b9aab64e-b6f6-4965-9501-b3af7a7a5498",
   "metadata": {},
   "outputs": [
    {
     "data": {
      "text/plain": [
       "0.010121453885171033"
      ]
     },
     "execution_count": 398,
     "metadata": {},
     "output_type": "execute_result"
    }
   ],
   "source": [
    "np.std(y1_test)"
   ]
  },
  {
   "cell_type": "markdown",
   "id": "32adcff2-b646-412e-8e0d-be6e31be4979",
   "metadata": {},
   "source": [
    "Below I am building an LSTM, first I will take the difference of the data and scale it to ensure that the data is Stationary and ready to be modeled."
   ]
  },
  {
   "cell_type": "code",
   "execution_count": 399,
   "id": "089c51dd-6d2a-495b-8b14-15c3b942ef1d",
   "metadata": {},
   "outputs": [
    {
     "name": "stdout",
     "output_type": "stream",
     "text": [
      "ADF Statistic: -15.946993\n",
      "p-value: 0.000000\n",
      "Critical Values:\n",
      "\t1%: -3.4329778809556224\n",
      "\t5%: -2.86270098200392\n",
      "\t10%: -2.5673880359934063\n"
     ]
    }
   ],
   "source": [
    "lstmdata = data.drop(['close_price','points_change'],axis=1)\n",
    "result = adfuller(lstmdata['log_returns'])\n",
    "\n",
    "# The result is a tuple, so we can unpack it\n",
    "print('ADF Statistic: %f' % result[0])\n",
    "print('p-value: %f' % result[1])\n",
    "print('Critical Values:')\n",
    "for key, value in result[4].items():\n",
    "    print(f'\\t{key}: {value}')"
   ]
  },
  {
   "cell_type": "code",
   "execution_count": 400,
   "id": "f4c01ea9-d842-44c0-a61f-a1fa6d54c774",
   "metadata": {},
   "outputs": [],
   "source": [
    "train = lstmdata['2015-9-1':].diff().dropna()\n",
    "test = lstmdata['2023-8-14':].diff().dropna()"
   ]
  },
  {
   "cell_type": "code",
   "execution_count": 401,
   "id": "f68e04c4-73e3-4a7b-9e4c-943084019ef7",
   "metadata": {},
   "outputs": [],
   "source": [
    "#SCALED DATA:\n",
    "train_scaled = MinMaxScaler(feature_range=(0, 1)).fit_transform(train)\n",
    "test_scaled = MinMaxScaler(feature_range=(0, 1)).fit_transform(test)"
   ]
  },
  {
   "cell_type": "code",
   "execution_count": 402,
   "id": "d1b0c3f2-8449-4109-9c8b-ac9d40d3e659",
   "metadata": {},
   "outputs": [
    {
     "data": {
      "text/html": [
       "<style>#sk-container-id-6 {\n",
       "  /* Definition of color scheme common for light and dark mode */\n",
       "  --sklearn-color-text: #000;\n",
       "  --sklearn-color-text-muted: #666;\n",
       "  --sklearn-color-line: gray;\n",
       "  /* Definition of color scheme for unfitted estimators */\n",
       "  --sklearn-color-unfitted-level-0: #fff5e6;\n",
       "  --sklearn-color-unfitted-level-1: #f6e4d2;\n",
       "  --sklearn-color-unfitted-level-2: #ffe0b3;\n",
       "  --sklearn-color-unfitted-level-3: chocolate;\n",
       "  /* Definition of color scheme for fitted estimators */\n",
       "  --sklearn-color-fitted-level-0: #f0f8ff;\n",
       "  --sklearn-color-fitted-level-1: #d4ebff;\n",
       "  --sklearn-color-fitted-level-2: #b3dbfd;\n",
       "  --sklearn-color-fitted-level-3: cornflowerblue;\n",
       "\n",
       "  /* Specific color for light theme */\n",
       "  --sklearn-color-text-on-default-background: var(--sg-text-color, var(--theme-code-foreground, var(--jp-content-font-color1, black)));\n",
       "  --sklearn-color-background: var(--sg-background-color, var(--theme-background, var(--jp-layout-color0, white)));\n",
       "  --sklearn-color-border-box: var(--sg-text-color, var(--theme-code-foreground, var(--jp-content-font-color1, black)));\n",
       "  --sklearn-color-icon: #696969;\n",
       "\n",
       "  @media (prefers-color-scheme: dark) {\n",
       "    /* Redefinition of color scheme for dark theme */\n",
       "    --sklearn-color-text-on-default-background: var(--sg-text-color, var(--theme-code-foreground, var(--jp-content-font-color1, white)));\n",
       "    --sklearn-color-background: var(--sg-background-color, var(--theme-background, var(--jp-layout-color0, #111)));\n",
       "    --sklearn-color-border-box: var(--sg-text-color, var(--theme-code-foreground, var(--jp-content-font-color1, white)));\n",
       "    --sklearn-color-icon: #878787;\n",
       "  }\n",
       "}\n",
       "\n",
       "#sk-container-id-6 {\n",
       "  color: var(--sklearn-color-text);\n",
       "}\n",
       "\n",
       "#sk-container-id-6 pre {\n",
       "  padding: 0;\n",
       "}\n",
       "\n",
       "#sk-container-id-6 input.sk-hidden--visually {\n",
       "  border: 0;\n",
       "  clip: rect(1px 1px 1px 1px);\n",
       "  clip: rect(1px, 1px, 1px, 1px);\n",
       "  height: 1px;\n",
       "  margin: -1px;\n",
       "  overflow: hidden;\n",
       "  padding: 0;\n",
       "  position: absolute;\n",
       "  width: 1px;\n",
       "}\n",
       "\n",
       "#sk-container-id-6 div.sk-dashed-wrapped {\n",
       "  border: 1px dashed var(--sklearn-color-line);\n",
       "  margin: 0 0.4em 0.5em 0.4em;\n",
       "  box-sizing: border-box;\n",
       "  padding-bottom: 0.4em;\n",
       "  background-color: var(--sklearn-color-background);\n",
       "}\n",
       "\n",
       "#sk-container-id-6 div.sk-container {\n",
       "  /* jupyter's `normalize.less` sets `[hidden] { display: none; }`\n",
       "     but bootstrap.min.css set `[hidden] { display: none !important; }`\n",
       "     so we also need the `!important` here to be able to override the\n",
       "     default hidden behavior on the sphinx rendered scikit-learn.org.\n",
       "     See: https://github.com/scikit-learn/scikit-learn/issues/21755 */\n",
       "  display: inline-block !important;\n",
       "  position: relative;\n",
       "}\n",
       "\n",
       "#sk-container-id-6 div.sk-text-repr-fallback {\n",
       "  display: none;\n",
       "}\n",
       "\n",
       "div.sk-parallel-item,\n",
       "div.sk-serial,\n",
       "div.sk-item {\n",
       "  /* draw centered vertical line to link estimators */\n",
       "  background-image: linear-gradient(var(--sklearn-color-text-on-default-background), var(--sklearn-color-text-on-default-background));\n",
       "  background-size: 2px 100%;\n",
       "  background-repeat: no-repeat;\n",
       "  background-position: center center;\n",
       "}\n",
       "\n",
       "/* Parallel-specific style estimator block */\n",
       "\n",
       "#sk-container-id-6 div.sk-parallel-item::after {\n",
       "  content: \"\";\n",
       "  width: 100%;\n",
       "  border-bottom: 2px solid var(--sklearn-color-text-on-default-background);\n",
       "  flex-grow: 1;\n",
       "}\n",
       "\n",
       "#sk-container-id-6 div.sk-parallel {\n",
       "  display: flex;\n",
       "  align-items: stretch;\n",
       "  justify-content: center;\n",
       "  background-color: var(--sklearn-color-background);\n",
       "  position: relative;\n",
       "}\n",
       "\n",
       "#sk-container-id-6 div.sk-parallel-item {\n",
       "  display: flex;\n",
       "  flex-direction: column;\n",
       "}\n",
       "\n",
       "#sk-container-id-6 div.sk-parallel-item:first-child::after {\n",
       "  align-self: flex-end;\n",
       "  width: 50%;\n",
       "}\n",
       "\n",
       "#sk-container-id-6 div.sk-parallel-item:last-child::after {\n",
       "  align-self: flex-start;\n",
       "  width: 50%;\n",
       "}\n",
       "\n",
       "#sk-container-id-6 div.sk-parallel-item:only-child::after {\n",
       "  width: 0;\n",
       "}\n",
       "\n",
       "/* Serial-specific style estimator block */\n",
       "\n",
       "#sk-container-id-6 div.sk-serial {\n",
       "  display: flex;\n",
       "  flex-direction: column;\n",
       "  align-items: center;\n",
       "  background-color: var(--sklearn-color-background);\n",
       "  padding-right: 1em;\n",
       "  padding-left: 1em;\n",
       "}\n",
       "\n",
       "\n",
       "/* Toggleable style: style used for estimator/Pipeline/ColumnTransformer box that is\n",
       "clickable and can be expanded/collapsed.\n",
       "- Pipeline and ColumnTransformer use this feature and define the default style\n",
       "- Estimators will overwrite some part of the style using the `sk-estimator` class\n",
       "*/\n",
       "\n",
       "/* Pipeline and ColumnTransformer style (default) */\n",
       "\n",
       "#sk-container-id-6 div.sk-toggleable {\n",
       "  /* Default theme specific background. It is overwritten whether we have a\n",
       "  specific estimator or a Pipeline/ColumnTransformer */\n",
       "  background-color: var(--sklearn-color-background);\n",
       "}\n",
       "\n",
       "/* Toggleable label */\n",
       "#sk-container-id-6 label.sk-toggleable__label {\n",
       "  cursor: pointer;\n",
       "  display: flex;\n",
       "  width: 100%;\n",
       "  margin-bottom: 0;\n",
       "  padding: 0.5em;\n",
       "  box-sizing: border-box;\n",
       "  text-align: center;\n",
       "  align-items: start;\n",
       "  justify-content: space-between;\n",
       "  gap: 0.5em;\n",
       "}\n",
       "\n",
       "#sk-container-id-6 label.sk-toggleable__label .caption {\n",
       "  font-size: 0.6rem;\n",
       "  font-weight: lighter;\n",
       "  color: var(--sklearn-color-text-muted);\n",
       "}\n",
       "\n",
       "#sk-container-id-6 label.sk-toggleable__label-arrow:before {\n",
       "  /* Arrow on the left of the label */\n",
       "  content: \"▸\";\n",
       "  float: left;\n",
       "  margin-right: 0.25em;\n",
       "  color: var(--sklearn-color-icon);\n",
       "}\n",
       "\n",
       "#sk-container-id-6 label.sk-toggleable__label-arrow:hover:before {\n",
       "  color: var(--sklearn-color-text);\n",
       "}\n",
       "\n",
       "/* Toggleable content - dropdown */\n",
       "\n",
       "#sk-container-id-6 div.sk-toggleable__content {\n",
       "  display: none;\n",
       "  text-align: left;\n",
       "  /* unfitted */\n",
       "  background-color: var(--sklearn-color-unfitted-level-0);\n",
       "}\n",
       "\n",
       "#sk-container-id-6 div.sk-toggleable__content.fitted {\n",
       "  /* fitted */\n",
       "  background-color: var(--sklearn-color-fitted-level-0);\n",
       "}\n",
       "\n",
       "#sk-container-id-6 div.sk-toggleable__content pre {\n",
       "  margin: 0.2em;\n",
       "  border-radius: 0.25em;\n",
       "  color: var(--sklearn-color-text);\n",
       "  /* unfitted */\n",
       "  background-color: var(--sklearn-color-unfitted-level-0);\n",
       "}\n",
       "\n",
       "#sk-container-id-6 div.sk-toggleable__content.fitted pre {\n",
       "  /* unfitted */\n",
       "  background-color: var(--sklearn-color-fitted-level-0);\n",
       "}\n",
       "\n",
       "#sk-container-id-6 input.sk-toggleable__control:checked~div.sk-toggleable__content {\n",
       "  /* Expand drop-down */\n",
       "  display: block;\n",
       "  width: 100%;\n",
       "  overflow: visible;\n",
       "}\n",
       "\n",
       "#sk-container-id-6 input.sk-toggleable__control:checked~label.sk-toggleable__label-arrow:before {\n",
       "  content: \"▾\";\n",
       "}\n",
       "\n",
       "/* Pipeline/ColumnTransformer-specific style */\n",
       "\n",
       "#sk-container-id-6 div.sk-label input.sk-toggleable__control:checked~label.sk-toggleable__label {\n",
       "  color: var(--sklearn-color-text);\n",
       "  background-color: var(--sklearn-color-unfitted-level-2);\n",
       "}\n",
       "\n",
       "#sk-container-id-6 div.sk-label.fitted input.sk-toggleable__control:checked~label.sk-toggleable__label {\n",
       "  background-color: var(--sklearn-color-fitted-level-2);\n",
       "}\n",
       "\n",
       "/* Estimator-specific style */\n",
       "\n",
       "/* Colorize estimator box */\n",
       "#sk-container-id-6 div.sk-estimator input.sk-toggleable__control:checked~label.sk-toggleable__label {\n",
       "  /* unfitted */\n",
       "  background-color: var(--sklearn-color-unfitted-level-2);\n",
       "}\n",
       "\n",
       "#sk-container-id-6 div.sk-estimator.fitted input.sk-toggleable__control:checked~label.sk-toggleable__label {\n",
       "  /* fitted */\n",
       "  background-color: var(--sklearn-color-fitted-level-2);\n",
       "}\n",
       "\n",
       "#sk-container-id-6 div.sk-label label.sk-toggleable__label,\n",
       "#sk-container-id-6 div.sk-label label {\n",
       "  /* The background is the default theme color */\n",
       "  color: var(--sklearn-color-text-on-default-background);\n",
       "}\n",
       "\n",
       "/* On hover, darken the color of the background */\n",
       "#sk-container-id-6 div.sk-label:hover label.sk-toggleable__label {\n",
       "  color: var(--sklearn-color-text);\n",
       "  background-color: var(--sklearn-color-unfitted-level-2);\n",
       "}\n",
       "\n",
       "/* Label box, darken color on hover, fitted */\n",
       "#sk-container-id-6 div.sk-label.fitted:hover label.sk-toggleable__label.fitted {\n",
       "  color: var(--sklearn-color-text);\n",
       "  background-color: var(--sklearn-color-fitted-level-2);\n",
       "}\n",
       "\n",
       "/* Estimator label */\n",
       "\n",
       "#sk-container-id-6 div.sk-label label {\n",
       "  font-family: monospace;\n",
       "  font-weight: bold;\n",
       "  display: inline-block;\n",
       "  line-height: 1.2em;\n",
       "}\n",
       "\n",
       "#sk-container-id-6 div.sk-label-container {\n",
       "  text-align: center;\n",
       "}\n",
       "\n",
       "/* Estimator-specific */\n",
       "#sk-container-id-6 div.sk-estimator {\n",
       "  font-family: monospace;\n",
       "  border: 1px dotted var(--sklearn-color-border-box);\n",
       "  border-radius: 0.25em;\n",
       "  box-sizing: border-box;\n",
       "  margin-bottom: 0.5em;\n",
       "  /* unfitted */\n",
       "  background-color: var(--sklearn-color-unfitted-level-0);\n",
       "}\n",
       "\n",
       "#sk-container-id-6 div.sk-estimator.fitted {\n",
       "  /* fitted */\n",
       "  background-color: var(--sklearn-color-fitted-level-0);\n",
       "}\n",
       "\n",
       "/* on hover */\n",
       "#sk-container-id-6 div.sk-estimator:hover {\n",
       "  /* unfitted */\n",
       "  background-color: var(--sklearn-color-unfitted-level-2);\n",
       "}\n",
       "\n",
       "#sk-container-id-6 div.sk-estimator.fitted:hover {\n",
       "  /* fitted */\n",
       "  background-color: var(--sklearn-color-fitted-level-2);\n",
       "}\n",
       "\n",
       "/* Specification for estimator info (e.g. \"i\" and \"?\") */\n",
       "\n",
       "/* Common style for \"i\" and \"?\" */\n",
       "\n",
       ".sk-estimator-doc-link,\n",
       "a:link.sk-estimator-doc-link,\n",
       "a:visited.sk-estimator-doc-link {\n",
       "  float: right;\n",
       "  font-size: smaller;\n",
       "  line-height: 1em;\n",
       "  font-family: monospace;\n",
       "  background-color: var(--sklearn-color-background);\n",
       "  border-radius: 1em;\n",
       "  height: 1em;\n",
       "  width: 1em;\n",
       "  text-decoration: none !important;\n",
       "  margin-left: 0.5em;\n",
       "  text-align: center;\n",
       "  /* unfitted */\n",
       "  border: var(--sklearn-color-unfitted-level-1) 1pt solid;\n",
       "  color: var(--sklearn-color-unfitted-level-1);\n",
       "}\n",
       "\n",
       ".sk-estimator-doc-link.fitted,\n",
       "a:link.sk-estimator-doc-link.fitted,\n",
       "a:visited.sk-estimator-doc-link.fitted {\n",
       "  /* fitted */\n",
       "  border: var(--sklearn-color-fitted-level-1) 1pt solid;\n",
       "  color: var(--sklearn-color-fitted-level-1);\n",
       "}\n",
       "\n",
       "/* On hover */\n",
       "div.sk-estimator:hover .sk-estimator-doc-link:hover,\n",
       ".sk-estimator-doc-link:hover,\n",
       "div.sk-label-container:hover .sk-estimator-doc-link:hover,\n",
       ".sk-estimator-doc-link:hover {\n",
       "  /* unfitted */\n",
       "  background-color: var(--sklearn-color-unfitted-level-3);\n",
       "  color: var(--sklearn-color-background);\n",
       "  text-decoration: none;\n",
       "}\n",
       "\n",
       "div.sk-estimator.fitted:hover .sk-estimator-doc-link.fitted:hover,\n",
       ".sk-estimator-doc-link.fitted:hover,\n",
       "div.sk-label-container:hover .sk-estimator-doc-link.fitted:hover,\n",
       ".sk-estimator-doc-link.fitted:hover {\n",
       "  /* fitted */\n",
       "  background-color: var(--sklearn-color-fitted-level-3);\n",
       "  color: var(--sklearn-color-background);\n",
       "  text-decoration: none;\n",
       "}\n",
       "\n",
       "/* Span, style for the box shown on hovering the info icon */\n",
       ".sk-estimator-doc-link span {\n",
       "  display: none;\n",
       "  z-index: 9999;\n",
       "  position: relative;\n",
       "  font-weight: normal;\n",
       "  right: .2ex;\n",
       "  padding: .5ex;\n",
       "  margin: .5ex;\n",
       "  width: min-content;\n",
       "  min-width: 20ex;\n",
       "  max-width: 50ex;\n",
       "  color: var(--sklearn-color-text);\n",
       "  box-shadow: 2pt 2pt 4pt #999;\n",
       "  /* unfitted */\n",
       "  background: var(--sklearn-color-unfitted-level-0);\n",
       "  border: .5pt solid var(--sklearn-color-unfitted-level-3);\n",
       "}\n",
       "\n",
       ".sk-estimator-doc-link.fitted span {\n",
       "  /* fitted */\n",
       "  background: var(--sklearn-color-fitted-level-0);\n",
       "  border: var(--sklearn-color-fitted-level-3);\n",
       "}\n",
       "\n",
       ".sk-estimator-doc-link:hover span {\n",
       "  display: block;\n",
       "}\n",
       "\n",
       "/* \"?\"-specific style due to the `<a>` HTML tag */\n",
       "\n",
       "#sk-container-id-6 a.estimator_doc_link {\n",
       "  float: right;\n",
       "  font-size: 1rem;\n",
       "  line-height: 1em;\n",
       "  font-family: monospace;\n",
       "  background-color: var(--sklearn-color-background);\n",
       "  border-radius: 1rem;\n",
       "  height: 1rem;\n",
       "  width: 1rem;\n",
       "  text-decoration: none;\n",
       "  /* unfitted */\n",
       "  color: var(--sklearn-color-unfitted-level-1);\n",
       "  border: var(--sklearn-color-unfitted-level-1) 1pt solid;\n",
       "}\n",
       "\n",
       "#sk-container-id-6 a.estimator_doc_link.fitted {\n",
       "  /* fitted */\n",
       "  border: var(--sklearn-color-fitted-level-1) 1pt solid;\n",
       "  color: var(--sklearn-color-fitted-level-1);\n",
       "}\n",
       "\n",
       "/* On hover */\n",
       "#sk-container-id-6 a.estimator_doc_link:hover {\n",
       "  /* unfitted */\n",
       "  background-color: var(--sklearn-color-unfitted-level-3);\n",
       "  color: var(--sklearn-color-background);\n",
       "  text-decoration: none;\n",
       "}\n",
       "\n",
       "#sk-container-id-6 a.estimator_doc_link.fitted:hover {\n",
       "  /* fitted */\n",
       "  background-color: var(--sklearn-color-fitted-level-3);\n",
       "}\n",
       "\n",
       ".estimator-table summary {\n",
       "    padding: .5rem;\n",
       "    font-family: monospace;\n",
       "    cursor: pointer;\n",
       "}\n",
       "\n",
       ".estimator-table details[open] {\n",
       "    padding-left: 0.1rem;\n",
       "    padding-right: 0.1rem;\n",
       "    padding-bottom: 0.3rem;\n",
       "}\n",
       "\n",
       ".estimator-table .parameters-table {\n",
       "    margin-left: auto !important;\n",
       "    margin-right: auto !important;\n",
       "}\n",
       "\n",
       ".estimator-table .parameters-table tr:nth-child(odd) {\n",
       "    background-color: #fff;\n",
       "}\n",
       "\n",
       ".estimator-table .parameters-table tr:nth-child(even) {\n",
       "    background-color: #f6f6f6;\n",
       "}\n",
       "\n",
       ".estimator-table .parameters-table tr:hover {\n",
       "    background-color: #e0e0e0;\n",
       "}\n",
       "\n",
       ".estimator-table table td {\n",
       "    border: 1px solid rgba(106, 105, 104, 0.232);\n",
       "}\n",
       "\n",
       ".user-set td {\n",
       "    color:rgb(255, 94, 0);\n",
       "    text-align: left;\n",
       "}\n",
       "\n",
       ".user-set td.value pre {\n",
       "    color:rgb(255, 94, 0) !important;\n",
       "    background-color: transparent !important;\n",
       "}\n",
       "\n",
       ".default td {\n",
       "    color: black;\n",
       "    text-align: left;\n",
       "}\n",
       "\n",
       ".user-set td i,\n",
       ".default td i {\n",
       "    color: black;\n",
       "}\n",
       "\n",
       ".copy-paste-icon {\n",
       "    background-image: url(data:image/svg+xml;base64,PHN2ZyB4bWxucz0iaHR0cDovL3d3dy53My5vcmcvMjAwMC9zdmciIHZpZXdCb3g9IjAgMCA0NDggNTEyIj48IS0tIUZvbnQgQXdlc29tZSBGcmVlIDYuNy4yIGJ5IEBmb250YXdlc29tZSAtIGh0dHBzOi8vZm9udGF3ZXNvbWUuY29tIExpY2Vuc2UgLSBodHRwczovL2ZvbnRhd2Vzb21lLmNvbS9saWNlbnNlL2ZyZWUgQ29weXJpZ2h0IDIwMjUgRm9udGljb25zLCBJbmMuLS0+PHBhdGggZD0iTTIwOCAwTDMzMi4xIDBjMTIuNyAwIDI0LjkgNS4xIDMzLjkgMTQuMWw2Ny45IDY3LjljOSA5IDE0LjEgMjEuMiAxNC4xIDMzLjlMNDQ4IDMzNmMwIDI2LjUtMjEuNSA0OC00OCA0OGwtMTkyIDBjLTI2LjUgMC00OC0yMS41LTQ4LTQ4bDAtMjg4YzAtMjYuNSAyMS41LTQ4IDQ4LTQ4ek00OCAxMjhsODAgMCAwIDY0LTY0IDAgMCAyNTYgMTkyIDAgMC0zMiA2NCAwIDAgNDhjMCAyNi41LTIxLjUgNDgtNDggNDhMNDggNTEyYy0yNi41IDAtNDgtMjEuNS00OC00OEwwIDE3NmMwLTI2LjUgMjEuNS00OCA0OC00OHoiLz48L3N2Zz4=);\n",
       "    background-repeat: no-repeat;\n",
       "    background-size: 14px 14px;\n",
       "    background-position: 0;\n",
       "    display: inline-block;\n",
       "    width: 14px;\n",
       "    height: 14px;\n",
       "    cursor: pointer;\n",
       "}\n",
       "</style><body><div id=\"sk-container-id-6\" class=\"sk-top-container\"><div class=\"sk-text-repr-fallback\"><pre>MinMaxScaler()</pre><b>In a Jupyter environment, please rerun this cell to show the HTML representation or trust the notebook. <br />On GitHub, the HTML representation is unable to render, please try loading this page with nbviewer.org.</b></div><div class=\"sk-container\" hidden><div class=\"sk-item\"><div class=\"sk-estimator fitted sk-toggleable\"><input class=\"sk-toggleable__control sk-hidden--visually\" id=\"sk-estimator-id-6\" type=\"checkbox\" checked><label for=\"sk-estimator-id-6\" class=\"sk-toggleable__label fitted sk-toggleable__label-arrow\"><div><div>MinMaxScaler</div></div><div><a class=\"sk-estimator-doc-link fitted\" rel=\"noreferrer\" target=\"_blank\" href=\"https://scikit-learn.org/1.7/modules/generated/sklearn.preprocessing.MinMaxScaler.html\">?<span>Documentation for MinMaxScaler</span></a><span class=\"sk-estimator-doc-link fitted\">i<span>Fitted</span></span></div></label><div class=\"sk-toggleable__content fitted\" data-param-prefix=\"\">\n",
       "        <div class=\"estimator-table\">\n",
       "            <details>\n",
       "                <summary>Parameters</summary>\n",
       "                <table class=\"parameters-table\">\n",
       "                  <tbody>\n",
       "                    \n",
       "        <tr class=\"default\">\n",
       "            <td><i class=\"copy-paste-icon\"\n",
       "                 onclick=\"copyToClipboard('feature_range',\n",
       "                          this.parentElement.nextElementSibling)\"\n",
       "            ></i></td>\n",
       "            <td class=\"param\">feature_range&nbsp;</td>\n",
       "            <td class=\"value\">(0, ...)</td>\n",
       "        </tr>\n",
       "    \n",
       "\n",
       "        <tr class=\"default\">\n",
       "            <td><i class=\"copy-paste-icon\"\n",
       "                 onclick=\"copyToClipboard('copy',\n",
       "                          this.parentElement.nextElementSibling)\"\n",
       "            ></i></td>\n",
       "            <td class=\"param\">copy&nbsp;</td>\n",
       "            <td class=\"value\">True</td>\n",
       "        </tr>\n",
       "    \n",
       "\n",
       "        <tr class=\"default\">\n",
       "            <td><i class=\"copy-paste-icon\"\n",
       "                 onclick=\"copyToClipboard('clip',\n",
       "                          this.parentElement.nextElementSibling)\"\n",
       "            ></i></td>\n",
       "            <td class=\"param\">clip&nbsp;</td>\n",
       "            <td class=\"value\">False</td>\n",
       "        </tr>\n",
       "    \n",
       "                  </tbody>\n",
       "                </table>\n",
       "            </details>\n",
       "        </div>\n",
       "    </div></div></div></div></div><script>function copyToClipboard(text, element) {\n",
       "    // Get the parameter prefix from the closest toggleable content\n",
       "    const toggleableContent = element.closest('.sk-toggleable__content');\n",
       "    const paramPrefix = toggleableContent ? toggleableContent.dataset.paramPrefix : '';\n",
       "    const fullParamName = paramPrefix ? `${paramPrefix}${text}` : text;\n",
       "\n",
       "    const originalStyle = element.style;\n",
       "    const computedStyle = window.getComputedStyle(element);\n",
       "    const originalWidth = computedStyle.width;\n",
       "    const originalHTML = element.innerHTML.replace('Copied!', '');\n",
       "\n",
       "    navigator.clipboard.writeText(fullParamName)\n",
       "        .then(() => {\n",
       "            element.style.width = originalWidth;\n",
       "            element.style.color = 'green';\n",
       "            element.innerHTML = \"Copied!\";\n",
       "\n",
       "            setTimeout(() => {\n",
       "                element.innerHTML = originalHTML;\n",
       "                element.style = originalStyle;\n",
       "            }, 2000);\n",
       "        })\n",
       "        .catch(err => {\n",
       "            console.error('Failed to copy:', err);\n",
       "            element.style.color = 'red';\n",
       "            element.innerHTML = \"Failed!\";\n",
       "            setTimeout(() => {\n",
       "                element.innerHTML = originalHTML;\n",
       "                element.style = originalStyle;\n",
       "            }, 2000);\n",
       "        });\n",
       "    return false;\n",
       "}\n",
       "\n",
       "document.querySelectorAll('.fa-regular.fa-copy').forEach(function(element) {\n",
       "    const toggleableContent = element.closest('.sk-toggleable__content');\n",
       "    const paramPrefix = toggleableContent ? toggleableContent.dataset.paramPrefix : '';\n",
       "    const paramName = element.parentElement.nextElementSibling.textContent.trim();\n",
       "    const fullParamName = paramPrefix ? `${paramPrefix}${paramName}` : paramName;\n",
       "\n",
       "    element.setAttribute('title', fullParamName);\n",
       "});\n",
       "</script></body>"
      ],
      "text/plain": [
       "MinMaxScaler()"
      ]
     },
     "execution_count": 402,
     "metadata": {},
     "output_type": "execute_result"
    }
   ],
   "source": [
    "scaler = MinMaxScaler(feature_range=(0, 1))\n",
    "scaler.fit(train)"
   ]
  },
  {
   "cell_type": "code",
   "execution_count": 403,
   "id": "fcea3b5d-ed0e-4cb7-b730-c186aec6563d",
   "metadata": {},
   "outputs": [],
   "source": [
    "def create_sequences(data, seq_length):\n",
    "    X = []\n",
    "    y = []\n",
    "    # Loop from the beginning of the data until the end,\n",
    "    # leaving enough room for the last sequence and its target\n",
    "    for i in range(len(data) - seq_length):\n",
    "        X.append(data[i:(i + seq_length)])\n",
    "        y.append(data[i + seq_length, 5])\n",
    "    return np.array(X), np.array(y)\n",
    "\n"
   ]
  },
  {
   "cell_type": "code",
   "execution_count": 404,
   "id": "05b5f87a-9579-4a68-89c4-692ceec469a3",
   "metadata": {},
   "outputs": [],
   "source": [
    "\n",
    "seq_length = 30  # For example, using the last 90 trading days\n",
    "\n",
    "# Create sequences for the training set\n",
    "X3_train, y3_train = create_sequences(train_scaled, seq_length)\n",
    "\n",
    "# Create sequences for the testing set\n",
    "X3_test, y3_test = create_sequences(test_scaled, seq_length)\n"
   ]
  },
  {
   "cell_type": "code",
   "execution_count": 405,
   "id": "0fe79cef-f08c-416e-8ed3-179adfe1c862",
   "metadata": {},
   "outputs": [
    {
     "name": "stdout",
     "output_type": "stream",
     "text": [
      "X_train shape: (2469, 30, 6)\n",
      "y_train shape: (2469,)\n",
      "X_test shape: (469, 30, 6)\n",
      "y_test shape: (469,)\n"
     ]
    }
   ],
   "source": [
    "print(\"X_train shape:\", X3_train.shape)\n",
    "print(\"y_train shape:\", y3_train.shape)\n",
    "print(\"X_test shape:\", X3_test.shape)\n",
    "print(\"y_test shape:\", y3_test.shape)\n",
    "n_timesteps = X3_train.shape[1]\n",
    "n_features = X3_train.shape[2]"
   ]
  },
  {
   "cell_type": "code",
   "execution_count": 406,
   "id": "60520228-6831-44a1-ad44-a5222d8fb80d",
   "metadata": {},
   "outputs": [],
   "source": [
    "lstm = keras.models.Sequential([\n",
    "    keras.layers.LSTM(100, return_sequences=True),\n",
    "    keras.layers.LSTM(50, return_sequences=True),\n",
    "    keras.layers.LSTM(25, return_sequences=True),\n",
    "    keras.layers.TimeDistributed(keras.layers.Dense(1))\n",
    "])\n",
    "\n",
    "lstm.compile(loss=\"mse\", optimizer=\"adam\")\n"
   ]
  },
  {
   "cell_type": "code",
   "execution_count": 410,
   "id": "43782872-45e7-4dcf-9b77-ab73051d887f",
   "metadata": {},
   "outputs": [
    {
     "name": "stdout",
     "output_type": "stream",
     "text": [
      "Epoch 1/20\n",
      "\u001b[1m77/77\u001b[0m \u001b[32m━━━━━━━━━━━━━━━━━━━━\u001b[0m\u001b[37m\u001b[0m \u001b[1m1s\u001b[0m 18ms/step - loss: 0.0020 - val_loss: 7.0696e-04\n",
      "Epoch 2/20\n",
      "\u001b[1m77/77\u001b[0m \u001b[32m━━━━━━━━━━━━━━━━━━━━\u001b[0m\u001b[37m\u001b[0m \u001b[1m1s\u001b[0m 18ms/step - loss: 0.0020 - val_loss: 5.7201e-04\n",
      "Epoch 3/20\n",
      "\u001b[1m77/77\u001b[0m \u001b[32m━━━━━━━━━━━━━━━━━━━━\u001b[0m\u001b[37m\u001b[0m \u001b[1m2s\u001b[0m 21ms/step - loss: 0.0020 - val_loss: 8.8386e-04\n",
      "Epoch 4/20\n",
      "\u001b[1m77/77\u001b[0m \u001b[32m━━━━━━━━━━━━━━━━━━━━\u001b[0m\u001b[37m\u001b[0m \u001b[1m2s\u001b[0m 25ms/step - loss: 0.0020 - val_loss: 5.6227e-04\n",
      "Epoch 5/20\n",
      "\u001b[1m77/77\u001b[0m \u001b[32m━━━━━━━━━━━━━━━━━━━━\u001b[0m\u001b[37m\u001b[0m \u001b[1m2s\u001b[0m 24ms/step - loss: 0.0020 - val_loss: 5.6274e-04\n",
      "Epoch 6/20\n",
      "\u001b[1m77/77\u001b[0m \u001b[32m━━━━━━━━━━━━━━━━━━━━\u001b[0m\u001b[37m\u001b[0m \u001b[1m2s\u001b[0m 24ms/step - loss: 0.0019 - val_loss: 5.6114e-04\n",
      "Epoch 7/20\n",
      "\u001b[1m77/77\u001b[0m \u001b[32m━━━━━━━━━━━━━━━━━━━━\u001b[0m\u001b[37m\u001b[0m \u001b[1m2s\u001b[0m 27ms/step - loss: 0.0019 - val_loss: 5.8706e-04\n",
      "Epoch 8/20\n",
      "\u001b[1m77/77\u001b[0m \u001b[32m━━━━━━━━━━━━━━━━━━━━\u001b[0m\u001b[37m\u001b[0m \u001b[1m2s\u001b[0m 25ms/step - loss: 0.0019 - val_loss: 5.7976e-04\n",
      "Epoch 9/20\n",
      "\u001b[1m77/77\u001b[0m \u001b[32m━━━━━━━━━━━━━━━━━━━━\u001b[0m\u001b[37m\u001b[0m \u001b[1m2s\u001b[0m 26ms/step - loss: 0.0019 - val_loss: 6.1023e-04\n",
      "Epoch 10/20\n",
      "\u001b[1m77/77\u001b[0m \u001b[32m━━━━━━━━━━━━━━━━━━━━\u001b[0m\u001b[37m\u001b[0m \u001b[1m2s\u001b[0m 24ms/step - loss: 0.0020 - val_loss: 5.6968e-04\n",
      "Epoch 11/20\n",
      "\u001b[1m77/77\u001b[0m \u001b[32m━━━━━━━━━━━━━━━━━━━━\u001b[0m\u001b[37m\u001b[0m \u001b[1m2s\u001b[0m 24ms/step - loss: 0.0020 - val_loss: 6.0438e-04\n",
      "Epoch 12/20\n",
      "\u001b[1m77/77\u001b[0m \u001b[32m━━━━━━━━━━━━━━━━━━━━\u001b[0m\u001b[37m\u001b[0m \u001b[1m2s\u001b[0m 23ms/step - loss: 0.0020 - val_loss: 7.6946e-04\n",
      "Epoch 13/20\n",
      "\u001b[1m77/77\u001b[0m \u001b[32m━━━━━━━━━━━━━━━━━━━━\u001b[0m\u001b[37m\u001b[0m \u001b[1m2s\u001b[0m 27ms/step - loss: 0.0020 - val_loss: 5.6313e-04\n",
      "Epoch 14/20\n",
      "\u001b[1m77/77\u001b[0m \u001b[32m━━━━━━━━━━━━━━━━━━━━\u001b[0m\u001b[37m\u001b[0m \u001b[1m2s\u001b[0m 25ms/step - loss: 0.0019 - val_loss: 5.6863e-04\n",
      "Epoch 15/20\n",
      "\u001b[1m77/77\u001b[0m \u001b[32m━━━━━━━━━━━━━━━━━━━━\u001b[0m\u001b[37m\u001b[0m \u001b[1m2s\u001b[0m 24ms/step - loss: 0.0019 - val_loss: 8.1210e-04\n",
      "Epoch 16/20\n",
      "\u001b[1m77/77\u001b[0m \u001b[32m━━━━━━━━━━━━━━━━━━━━\u001b[0m\u001b[37m\u001b[0m \u001b[1m2s\u001b[0m 25ms/step - loss: 0.0019 - val_loss: 5.9090e-04\n",
      "Epoch 17/20\n",
      "\u001b[1m77/77\u001b[0m \u001b[32m━━━━━━━━━━━━━━━━━━━━\u001b[0m\u001b[37m\u001b[0m \u001b[1m2s\u001b[0m 24ms/step - loss: 0.0019 - val_loss: 5.6920e-04\n",
      "Epoch 18/20\n",
      "\u001b[1m77/77\u001b[0m \u001b[32m━━━━━━━━━━━━━━━━━━━━\u001b[0m\u001b[37m\u001b[0m \u001b[1m2s\u001b[0m 24ms/step - loss: 0.0019 - val_loss: 5.6595e-04\n",
      "Epoch 19/20\n",
      "\u001b[1m77/77\u001b[0m \u001b[32m━━━━━━━━━━━━━━━━━━━━\u001b[0m\u001b[37m\u001b[0m \u001b[1m2s\u001b[0m 24ms/step - loss: 0.0019 - val_loss: 5.6078e-04\n",
      "Epoch 20/20\n",
      "\u001b[1m77/77\u001b[0m \u001b[32m━━━━━━━━━━━━━━━━━━━━\u001b[0m\u001b[37m\u001b[0m \u001b[1m2s\u001b[0m 22ms/step - loss: 0.0020 - val_loss: 7.5617e-04\n"
     ]
    }
   ],
   "source": [
    "lstmfinal = lstm.fit(X3_train, y3_train,epochs=20,batch_size=32,validation_split=0.01, verbose=1)\n"
   ]
  },
  {
   "cell_type": "code",
   "execution_count": 411,
   "id": "e16c1840-99ea-43aa-be02-0be71581e8a8",
   "metadata": {},
   "outputs": [
    {
     "name": "stdout",
     "output_type": "stream",
     "text": [
      "\u001b[1m15/15\u001b[0m \u001b[32m━━━━━━━━━━━━━━━━━━━━\u001b[0m\u001b[37m\u001b[0m \u001b[1m0s\u001b[0m 11ms/step\n"
     ]
    }
   ],
   "source": [
    "y_pred_lstm = lstm.predict(X3_test)\n",
    "# Create an empty array to hold the inverse transformed values\n",
    "y_test_unscaled = np.zeros(shape=(len(y3_test), lstmdata.shape[1]))\n",
    "y_pred_unscaled = np.zeros(shape=(len(y_pred_lstm), lstmdata.shape[1]))\n",
    "# Replace the first column with the target values\n",
    "y_test_unscaled[:, 0] = y3_test\n",
    "y_pred_unscaled[:, 0] = y_pred_lstm[:, -1, 0]\n",
    "\n",
    "# Inverse transform the data\n",
    "y_test_unscaled = scaler.inverse_transform(y_test_unscaled)[:, 0]\n",
    "y_pred_unscaled = scaler.inverse_transform(y_pred_unscaled)[:, 0]\n"
   ]
  },
  {
   "cell_type": "code",
   "execution_count": 412,
   "id": "522de364-ca5f-4453-bdf2-37c2863eac9d",
   "metadata": {},
   "outputs": [
    {
     "name": "stdout",
     "output_type": "stream",
     "text": [
      "Mean Squared Error: 2867.9834\n",
      "Root Mean Squared Error: 53.5536\n"
     ]
    }
   ],
   "source": [
    "mse = mean_squared_error(y_test_unscaled, y_pred_unscaled)\n",
    "rmse = np.sqrt(mse)\n",
    "print(f\"Mean Squared Error: {mse:.4f}\")\n",
    "print(f\"Root Mean Squared Error: {rmse:.4f}\")"
   ]
  },
  {
   "cell_type": "code",
   "execution_count": null,
   "id": "37dfee35-7c54-4321-9aa6-956dd6c81935",
   "metadata": {},
   "outputs": [],
   "source": []
  },
  {
   "cell_type": "code",
   "execution_count": null,
   "id": "6ef711d9-60a5-41cc-bc69-6b2ea0e72824",
   "metadata": {},
   "outputs": [],
   "source": []
  },
  {
   "cell_type": "code",
   "execution_count": null,
   "id": "89c2eec4-c2a5-4631-a969-218dd6fa6958",
   "metadata": {},
   "outputs": [],
   "source": []
  }
 ],
 "metadata": {
  "kernelspec": {
   "display_name": "Python 3 (ipykernel)",
   "language": "python",
   "name": "python3"
  },
  "language_info": {
   "codemirror_mode": {
    "name": "ipython",
    "version": 3
   },
   "file_extension": ".py",
   "mimetype": "text/x-python",
   "name": "python",
   "nbconvert_exporter": "python",
   "pygments_lexer": "ipython3",
   "version": "3.10.18"
  }
 },
 "nbformat": 4,
 "nbformat_minor": 5
}
