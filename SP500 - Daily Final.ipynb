{
 "cells": [
  {
   "cell_type": "code",
   "execution_count": 67,
   "id": "663179d3-9f7a-420f-a134-2adced0656e5",
   "metadata": {},
   "outputs": [],
   "source": [
    "import pandas as pd\n",
    "import matplotlib.pyplot as plt\n",
    "import numpy as np\n",
    "import warnings\n",
    "from sklearn.pipeline import Pipeline, make_pipeline\n",
    "from sklearn.linear_model import LinearRegression, Ridge, Lasso\n",
    "from sklearn.preprocessing import PolynomialFeatures, OneHotEncoder, OrdinalEncoder, StandardScaler,MinMaxScaler\n",
    "from sklearn.metrics import mean_squared_error\n",
    "from sklearn.feature_selection import SequentialFeatureSelector, SelectFromModel\n",
    "from sklearn.pipeline import Pipeline\n",
    "from statsmodels.tsa.stattools import adfuller\n",
    "from sklearn import set_config\n",
    "from sklearn.model_selection import train_test_split, GridSearchCV\n",
    "from sklearn.impute import SimpleImputer\n",
    "from sklearn.compose import ColumnTransformer\n",
    "import matplotlib.pyplot as plt\n",
    "import seaborn as sns\n",
    "import plotly.express as px\n",
    "from scipy import stats\n",
    "import tensorflow as tf\n",
    "from tensorflow import keras\n",
    "import statsmodels.api as sm\n",
    "from statsmodels.tsa.filters.filtertools import convolution_filter\n",
    "from statsmodels.tsa.statespace.sarimax import SARIMAX\n",
    "import statsmodels.graphics.tsaplots as tsplots\n",
    "from statsmodels.tsa.seasonal import seasonal_decompose, STL\n",
    "from statsmodels.tsa.forecasting.stl import STLForecast\n",
    "from statsmodels.tsa.arima.model import ARIMA\n",
    "from statsmodels.graphics.tsaplots import plot_acf, plot_pacf\n",
    "import statsmodels.graphics.tsaplots as tsaplots\n",
    "import warnings\n",
    "warnings.filterwarnings(\"ignore\")"
   ]
  },
  {
   "cell_type": "code",
   "execution_count": 68,
   "id": "10a26fee-d3ec-405a-8f2c-951676f73cc9",
   "metadata": {},
   "outputs": [],
   "source": [
    "data = pd.read_csv('data/SP500dailydata.csv')"
   ]
  },
  {
   "cell_type": "code",
   "execution_count": 69,
   "id": "43fb5242-5280-4cd8-91f7-2372506789d2",
   "metadata": {},
   "outputs": [
    {
     "name": "stdout",
     "output_type": "stream",
     "text": [
      "<class 'pandas.core.frame.DataFrame'>\n",
      "RangeIndex: 2502 entries, 0 to 2501\n",
      "Data columns (total 7 columns):\n",
      " #   Column                 Non-Null Count  Dtype  \n",
      "---  ------                 --------------  -----  \n",
      " 0   Date                   2501 non-null   object \n",
      " 1   sp_500_prev_day_close  2501 non-null   float64\n",
      " 2   vix_prev_day           2501 non-null   float64\n",
      " 3   nasdaq_prev_day        2501 non-null   float64\n",
      " 4   russell_2000_prev_day  2501 non-null   float64\n",
      " 5   prev_volume            2502 non-null   int64  \n",
      " 6   close_price            2501 non-null   float64\n",
      "dtypes: float64(5), int64(1), object(1)\n",
      "memory usage: 137.0+ KB\n"
     ]
    },
    {
     "data": {
      "text/html": [
       "<div>\n",
       "<style scoped>\n",
       "    .dataframe tbody tr th:only-of-type {\n",
       "        vertical-align: middle;\n",
       "    }\n",
       "\n",
       "    .dataframe tbody tr th {\n",
       "        vertical-align: top;\n",
       "    }\n",
       "\n",
       "    .dataframe thead th {\n",
       "        text-align: right;\n",
       "    }\n",
       "</style>\n",
       "<table border=\"1\" class=\"dataframe\">\n",
       "  <thead>\n",
       "    <tr style=\"text-align: right;\">\n",
       "      <th></th>\n",
       "      <th>sp_500_prev_day_close</th>\n",
       "      <th>vix_prev_day</th>\n",
       "      <th>nasdaq_prev_day</th>\n",
       "      <th>russell_2000_prev_day</th>\n",
       "      <th>prev_volume</th>\n",
       "      <th>close_price</th>\n",
       "    </tr>\n",
       "    <tr>\n",
       "      <th>Date</th>\n",
       "      <th></th>\n",
       "      <th></th>\n",
       "      <th></th>\n",
       "      <th></th>\n",
       "      <th></th>\n",
       "      <th></th>\n",
       "    </tr>\n",
       "  </thead>\n",
       "  <tbody>\n",
       "    <tr>\n",
       "      <th>2024-10-08</th>\n",
       "      <td>5695.94</td>\n",
       "      <td>22.64</td>\n",
       "      <td>17923.90</td>\n",
       "      <td>26.01</td>\n",
       "      <td>49964688</td>\n",
       "      <td>5751.13</td>\n",
       "    </tr>\n",
       "    <tr>\n",
       "      <th>2024-08-23</th>\n",
       "      <td>5570.64</td>\n",
       "      <td>17.55</td>\n",
       "      <td>17619.35</td>\n",
       "      <td>25.20</td>\n",
       "      <td>56121461</td>\n",
       "      <td>5634.61</td>\n",
       "    </tr>\n",
       "    <tr>\n",
       "      <th>2016-05-26</th>\n",
       "      <td>2090.54</td>\n",
       "      <td>13.90</td>\n",
       "      <td>4894.89</td>\n",
       "      <td>17.73</td>\n",
       "      <td>79221531</td>\n",
       "      <td>2090.10</td>\n",
       "    </tr>\n",
       "    <tr>\n",
       "      <th>2018-01-26</th>\n",
       "      <td>2839.25</td>\n",
       "      <td>11.58</td>\n",
       "      <td>7411.16</td>\n",
       "      <td>16.54</td>\n",
       "      <td>84587312</td>\n",
       "      <td>2872.87</td>\n",
       "    </tr>\n",
       "    <tr>\n",
       "      <th>2020-09-21</th>\n",
       "      <td>3319.47</td>\n",
       "      <td>25.83</td>\n",
       "      <td>10793.28</td>\n",
       "      <td>29.55</td>\n",
       "      <td>105877906</td>\n",
       "      <td>3281.06</td>\n",
       "    </tr>\n",
       "    <tr>\n",
       "      <th>2020-02-03</th>\n",
       "      <td>3225.52</td>\n",
       "      <td>18.84</td>\n",
       "      <td>9150.94</td>\n",
       "      <td>20.33</td>\n",
       "      <td>113845602</td>\n",
       "      <td>3248.92</td>\n",
       "    </tr>\n",
       "    <tr>\n",
       "      <th>2020-05-06</th>\n",
       "      <td>2868.44</td>\n",
       "      <td>33.61</td>\n",
       "      <td>8809.12</td>\n",
       "      <td>43.72</td>\n",
       "      <td>79569938</td>\n",
       "      <td>2848.42</td>\n",
       "    </tr>\n",
       "    <tr>\n",
       "      <th>2021-04-22</th>\n",
       "      <td>4173.42</td>\n",
       "      <td>17.50</td>\n",
       "      <td>13950.22</td>\n",
       "      <td>26.19</td>\n",
       "      <td>66792977</td>\n",
       "      <td>4134.98</td>\n",
       "    </tr>\n",
       "    <tr>\n",
       "      <th>2018-02-22</th>\n",
       "      <td>2701.33</td>\n",
       "      <td>20.02</td>\n",
       "      <td>7218.23</td>\n",
       "      <td>20.47</td>\n",
       "      <td>98883742</td>\n",
       "      <td>2703.96</td>\n",
       "    </tr>\n",
       "    <tr>\n",
       "      <th>2025-02-24</th>\n",
       "      <td>6013.13</td>\n",
       "      <td>18.21</td>\n",
       "      <td>19524.01</td>\n",
       "      <td>23.04</td>\n",
       "      <td>76519820</td>\n",
       "      <td>5983.25</td>\n",
       "    </tr>\n",
       "  </tbody>\n",
       "</table>\n",
       "</div>"
      ],
      "text/plain": [
       "            sp_500_prev_day_close  vix_prev_day  nasdaq_prev_day  \\\n",
       "Date                                                               \n",
       "2024-10-08                5695.94         22.64         17923.90   \n",
       "2024-08-23                5570.64         17.55         17619.35   \n",
       "2016-05-26                2090.54         13.90          4894.89   \n",
       "2018-01-26                2839.25         11.58          7411.16   \n",
       "2020-09-21                3319.47         25.83         10793.28   \n",
       "2020-02-03                3225.52         18.84          9150.94   \n",
       "2020-05-06                2868.44         33.61          8809.12   \n",
       "2021-04-22                4173.42         17.50         13950.22   \n",
       "2018-02-22                2701.33         20.02          7218.23   \n",
       "2025-02-24                6013.13         18.21         19524.01   \n",
       "\n",
       "            russell_2000_prev_day  prev_volume  close_price  \n",
       "Date                                                         \n",
       "2024-10-08                  26.01     49964688      5751.13  \n",
       "2024-08-23                  25.20     56121461      5634.61  \n",
       "2016-05-26                  17.73     79221531      2090.10  \n",
       "2018-01-26                  16.54     84587312      2872.87  \n",
       "2020-09-21                  29.55    105877906      3281.06  \n",
       "2020-02-03                  20.33    113845602      3248.92  \n",
       "2020-05-06                  43.72     79569938      2848.42  \n",
       "2021-04-22                  26.19     66792977      4134.98  \n",
       "2018-02-22                  20.47     98883742      2703.96  \n",
       "2025-02-24                  23.04     76519820      5983.25  "
      ]
     },
     "execution_count": 69,
     "metadata": {},
     "output_type": "execute_result"
    }
   ],
   "source": [
    "data.info()\n",
    "data['Date'] = pd.to_datetime(data['Date'])\n",
    "data = data.set_index(data['Date'])\n",
    "data= data.drop('Date',axis=1)\n",
    "data= data.dropna()\n",
    "data.sample(10)"
   ]
  },
  {
   "cell_type": "markdown",
   "id": "861cb434-e7ed-4b68-afc7-41a7e32f733f",
   "metadata": {},
   "source": [
    "Below I created a column for log returns, log returns are stationary- making then more easily digestible for time series models."
   ]
  },
  {
   "cell_type": "code",
   "execution_count": 70,
   "id": "5f98d4ca-d158-40c3-bae2-800f72bf923d",
   "metadata": {},
   "outputs": [],
   "source": [
    "data['log_returns'] = np.log(data['close_price']).diff().dropna()\n",
    "data['points_change'] = data['close_price'].diff().dropna()\n",
    "data= data.dropna()"
   ]
  },
  {
   "cell_type": "code",
   "execution_count": 71,
   "id": "6ef7b99b-4fd1-44e6-a44f-01787d6e0d59",
   "metadata": {},
   "outputs": [
    {
     "name": "stdout",
     "output_type": "stream",
     "text": [
      "<class 'pandas.core.frame.DataFrame'>\n",
      "DatetimeIndex: 2500 entries, 2015-09-01 to 2025-08-11\n",
      "Data columns (total 8 columns):\n",
      " #   Column                 Non-Null Count  Dtype  \n",
      "---  ------                 --------------  -----  \n",
      " 0   sp_500_prev_day_close  2500 non-null   float64\n",
      " 1   vix_prev_day           2500 non-null   float64\n",
      " 2   nasdaq_prev_day        2500 non-null   float64\n",
      " 3   russell_2000_prev_day  2500 non-null   float64\n",
      " 4   prev_volume            2500 non-null   int64  \n",
      " 5   close_price            2500 non-null   float64\n",
      " 6   log_returns            2500 non-null   float64\n",
      " 7   points_change          2500 non-null   float64\n",
      "dtypes: float64(7), int64(1)\n",
      "memory usage: 175.8 KB\n"
     ]
    }
   ],
   "source": [
    "data['prev_volume']=data['prev_volume'].astype(int)\n",
    "data.info()"
   ]
  },
  {
   "cell_type": "markdown",
   "id": "5806e410-0e3c-4d8d-91c2-4fc8709f83a8",
   "metadata": {},
   "source": [
    "Below I will take the average of the absolute value of the daily change in points and also the standard deviation of Log Returns which will give us metrics to compare our models to:"
   ]
  },
  {
   "cell_type": "code",
   "execution_count": 84,
   "id": "a3b4fd58-0e12-4391-93e5-2542ca6e99c9",
   "metadata": {},
   "outputs": [
    {
     "name": "stdout",
     "output_type": "stream",
     "text": [
      "Mean absolute value in the change in price: 26.808356000000007\n",
      "Std deviation of log returns: 0.011565975931643336\n"
     ]
    }
   ],
   "source": [
    "meanchangeinprice=data['points_change'].abs().mean()\n",
    "stdevlogreturns=data['log_returns'].std()\n",
    "print(f\"Mean absolute value in the change in price: {meanchangeinprice}\")\n",
    "print(f\"Std deviation of log returns: {stdevlogreturns}\")"
   ]
  },
  {
   "cell_type": "code",
   "execution_count": 85,
   "id": "56e8e3f5-e091-4798-9488-5c9903e20664",
   "metadata": {},
   "outputs": [
    {
     "data": {
      "text/plain": [
       "Text(0, 0.5, 'Weekly Closing Price ($)')"
      ]
     },
     "execution_count": 85,
     "metadata": {},
     "output_type": "execute_result"
    },
    {
     "data": {
      "image/png": "[encoded data removed]",
      "text/plain": [
       "<Figure size 640x480 with 1 Axes>"
      ]
     },
     "metadata": {},
     "output_type": "display_data"
    }
   ],
   "source": [
    "#This plot shows the weekly closing price of the S&P500 since 1982\n",
    "plt.plot(data['close_price'])\n",
    "plt.title('Weekly S&P 500 Closing Price')\n",
    "plt.xlabel('Year')\n",
    "plt.ylabel('Weekly Closing Price ($)')"
   ]
  },
  {
   "cell_type": "code",
   "execution_count": 89,
   "id": "51651584-3fa0-43ee-9d36-5351e949bbf8",
   "metadata": {},
   "outputs": [
    {
     "data": {
      "text/plain": [
       "Text(0, 0.5, 'Change in Price')"
      ]
     },
     "execution_count": 89,
     "metadata": {},
     "output_type": "execute_result"
    },
    {
     "data": {
      "image/png": "[encoded data removed]",
      "text/plain": [
       "<Figure size 640x480 with 1 Axes>"
      ]
     },
     "metadata": {},
     "output_type": "display_data"
    }
   ],
   "source": [
    "#This plot shows the weekly returns of the S&P500 in %\n",
    "plt.plot(data['points_change'])\n",
    "plt.title('Weekly S&P 500 Returns')\n",
    "plt.xlabel('Year')\n",
    "plt.ylabel('Change in Price')"
   ]
  },
  {
   "cell_type": "markdown",
   "id": "f73fc701-f473-44ef-8a55-c9162dd1f442",
   "metadata": {},
   "source": [
    "Now i'll start preparing the data to run a simple linear regression on this data. I don't expect this model to be accurate at all, but it will give us an idea of how nuanced financial data is and how crucial the sequential aspect is of it."
   ]
  },
  {
   "cell_type": "code",
   "execution_count": 98,
   "id": "012714ad-128a-4198-b823-417219a405c6",
   "metadata": {},
   "outputs": [],
   "source": [
    "X=data.drop(['close_price','log_returns','points_change'],axis=1)\n",
    "y=data['close_price']"
   ]
  },
  {
   "cell_type": "markdown",
   "id": "d6e153ed-38c3-4a15-aee1-7992114b4eaf",
   "metadata": {},
   "source": [
    "Below I have began preparing training and test sets to perform cross validation on the linear regression"
   ]
  },
  {
   "cell_type": "code",
   "execution_count": 99,
   "id": "7355d799-fffc-4884-89db-1912181fb600",
   "metadata": {},
   "outputs": [],
   "source": [
    "X_train, X_test, y_train, y_test = train_test_split(X,y,test_size=0.20,random_state=42,shuffle=False)"
   ]
  },
  {
   "cell_type": "code",
   "execution_count": 100,
   "id": "22d5da33-3618-4404-86bd-95249a5052fc",
   "metadata": {},
   "outputs": [],
   "source": [
    "numerical=['sp_500_prev_day_close','vix_prev_day','nasdaq_prev_day','russell_2000_prev_day','prev_volume']"
   ]
  },
  {
   "cell_type": "code",
   "execution_count": 101,
   "id": "2b5ad1ff-3114-4a72-aa78-7aa16f1b2a3e",
   "metadata": {},
   "outputs": [],
   "source": [
    "polytransformer = Pipeline([         \n",
    "                                    ('imputer',SimpleImputer(strategy='mean')),\n",
    "                                    ('poly',PolynomialFeatures(degree = 3,include_bias=False)),\n",
    "                                    ('scale',StandardScaler())\n",
    "                                ])\n",
    "transformer = [('polynomialtransformations',polytransformer,numerical)]\n",
    "transform = ColumnTransformer(transformers = transformer,remainder='passthrough')"
   ]
  },
  {
   "cell_type": "markdown",
   "id": "a108334b-1bdd-49e2-8d7e-24148d766ab6",
   "metadata": {},
   "source": [
    "I have decided to forgo removing/filling any outliers, my thought is that because of the nature of financial data, outliers are important datapoints for the model to understand in this circumstance"
   ]
  },
  {
   "cell_type": "code",
   "execution_count": 102,
   "id": "6dcf9805-986b-4f13-901e-3f14e4b6ba00",
   "metadata": {},
   "outputs": [],
   "source": [
    "initialpipe = Pipeline([\n",
    "    ('transform',transform),\n",
    "    ('reg',LinearRegression())\n",
    "])\n"
   ]
  },
  {
   "cell_type": "code",
   "execution_count": 103,
   "id": "918e444b-09e4-43ea-bbe9-96cbb97cd292",
   "metadata": {},
   "outputs": [],
   "source": [
    "baselinemodel = initialpipe.fit(X_train,y_train)"
   ]
  },
  {
   "cell_type": "code",
   "execution_count": 104,
   "id": "c70ef2a6-fbfa-4dca-b202-fa25c2af13b5",
   "metadata": {},
   "outputs": [],
   "source": [
    "preds = baselinemodel.predict(X_test)\n",
    "baselineerror = mean_squared_error(preds,y_test)"
   ]
  },
  {
   "cell_type": "code",
   "execution_count": 105,
   "id": "a8a206e3-6bdd-4347-ac5a-5a0b4c400a8c",
   "metadata": {},
   "outputs": [
    {
     "name": "stdout",
     "output_type": "stream",
     "text": [
      "The baseline RMSE is: 167.29167588007869\n"
     ]
    }
   ],
   "source": [
    "# BELOW IS THE RMSE OF OUR INITIAL FUNCTION \n",
    "print(f\"The baseline RMSE is: {np.sqrt(baselineerror)}\")"
   ]
  },
  {
   "cell_type": "markdown",
   "id": "89fb2333-edc7-46bd-b355-61688d94dbb4",
   "metadata": {},
   "source": [
    "This standard linear regression gave us an RMSE of 167.29, which is much better than how it performed on the weekly data. This shows that on average the Linear Regression can predict the close price for the current week of the S&P 500 within 167.29 points, which is not an effective model , seeing as the average daily change is about 26.08. This is happening because the linear regression is not meant to handle sequential data like this. When you think about how quickly financial changes can happen like during COVID and in 2008, it makes sense that the model can't predict forward multiple years of how the S&P 500 is going to move."
   ]
  },
  {
   "cell_type": "markdown",
   "id": "8d06a582-0351-4d94-8bcf-65b819383067",
   "metadata": {},
   "source": [
    "Now that we have seen how poorly a standard linear regression performs, I will build a true baseline model, called a Random Walk, that will actually give us some information to base our proceeding models off of. "
   ]
  },
  {
   "cell_type": "markdown",
   "id": "88c047af-7d98-42c4-af7d-d2fc00e9c23a",
   "metadata": {},
   "source": [
    "First I'll need to make the data stationary so that it is suitable for ARIMA:"
   ]
  },
  {
   "cell_type": "code",
   "execution_count": 138,
   "id": "957daf88-0272-4a11-b5ab-78465f867c08",
   "metadata": {},
   "outputs": [],
   "source": [
    "diffdata= data.replace([np.inf, -np.inf], np.nan)\n",
    "diffdata = diffdata.fillna(method='bfill')\n",
    "diffdata=diffdata.diff()\n",
    "diffdata=diffdata.dropna()"
   ]
  },
  {
   "cell_type": "code",
   "execution_count": 139,
   "id": "a1343b44-32b9-45af-a403-945438812cb4",
   "metadata": {},
   "outputs": [
    {
     "name": "stdout",
     "output_type": "stream",
     "text": [
      "<class 'pandas.core.frame.DataFrame'>\n",
      "DatetimeIndex: 2499 entries, 2015-09-02 to 2025-08-11\n",
      "Data columns (total 8 columns):\n",
      " #   Column                 Non-Null Count  Dtype  \n",
      "---  ------                 --------------  -----  \n",
      " 0   sp_500_prev_day_close  2499 non-null   float64\n",
      " 1   vix_prev_day           2499 non-null   float64\n",
      " 2   nasdaq_prev_day        2499 non-null   float64\n",
      " 3   russell_2000_prev_day  2499 non-null   float64\n",
      " 4   prev_volume            2499 non-null   float64\n",
      " 5   close_price            2499 non-null   float64\n",
      " 6   log_returns            2499 non-null   float64\n",
      " 7   points_change          2499 non-null   float64\n",
      "dtypes: float64(8)\n",
      "memory usage: 175.7 KB\n"
     ]
    }
   ],
   "source": [
    "diffdata.info()\n",
    "X1=diffdata.drop(['log_returns','close_price','points_change'],axis=1)\n",
    "y1=diffdata['log_returns']"
   ]
  },
  {
   "cell_type": "code",
   "execution_count": 173,
   "id": "e2dca3f2-3796-4c56-91a7-078929ec94a2",
   "metadata": {},
   "outputs": [],
   "source": [
    "X1_train,X1_test,y1_train, y1_test = train_test_split(X1,y1,test_size=0.20,shuffle=False)"
   ]
  },
  {
   "cell_type": "code",
   "execution_count": 174,
   "id": "557cf58a-6e4b-4fd5-bca0-a9c204493f9b",
   "metadata": {},
   "outputs": [
    {
     "data": {
      "image/png": "[encoded data removed]",
      "text/plain": [
       "<Figure size 1600x500 with 2 Axes>"
      ]
     },
     "metadata": {},
     "output_type": "display_data"
    }
   ],
   "source": [
    "fig, ax = plt.subplots(1, 2, figsize = (16, 5))\n",
    "plot_acf(y1_train, ax = ax[0]);\n",
    "ax[0].grid()\n",
    "plot_pacf(y1_train, ax = ax[1], method = 'ywm');\n",
    "ax[1].grid()"
   ]
  },
  {
   "cell_type": "code",
   "execution_count": 175,
   "id": "2fa5cc46-8ad0-4732-b7e0-36a6a8ba230f",
   "metadata": {},
   "outputs": [],
   "source": [
    "randomwalk = SARIMAX(y1_train, order=(0, 1, 0), trend='c').fit()"
   ]
  },
  {
   "cell_type": "code",
   "execution_count": 176,
   "id": "56ee37db-8c82-4464-9a56-1f3377c177c3",
   "metadata": {},
   "outputs": [
    {
     "name": "stdout",
     "output_type": "stream",
     "text": [
      "1999   -0.001346\n",
      "2000   -0.001370\n",
      "2001   -0.001395\n",
      "2002   -0.001420\n",
      "2003   -0.001445\n",
      "          ...   \n",
      "2494   -0.013603\n",
      "2495   -0.013628\n",
      "2496   -0.013653\n",
      "2497   -0.013678\n",
      "2498   -0.013702\n",
      "Name: predicted_mean, Length: 500, dtype: float64\n",
      "0.00028312926021498136\n",
      " RMSE: 0.01682644526377991\n"
     ]
    }
   ],
   "source": [
    "start_index = len(y1_train)\n",
    "end_index = len(y1_train) + len(y1_test) - 1\n",
    "randomwalk_preds = randomwalk.predict(start=start_index, end=end_index,dynamic=True)\n",
    "random_mse_test = mean_squared_error(randomwalk_preds, y1_test)\n",
    "### ANSWER CHECK\n",
    "print(randomwalk_preds)\n",
    "print(random_mse_test)\n",
    "print(f\" RMSE: {np.sqrt(random_mse_test)}\")"
   ]
  },
  {
   "cell_type": "markdown",
   "id": "bd72251a-2149-4352-8edd-6ff46df7ee58",
   "metadata": {},
   "source": [
    "The Random Walk gave us a baseline RMSE of .028, which is above the std dev of log returns, meaning that the model is not actually predictive."
   ]
  },
  {
   "cell_type": "code",
   "execution_count": 177,
   "id": "33e90414-3054-4cd0-a649-85ea79ce59df",
   "metadata": {},
   "outputs": [],
   "source": [
    "arma = ARIMA(y1_train, order = (1, 0, 1)).fit()"
   ]
  },
  {
   "cell_type": "code",
   "execution_count": 178,
   "id": "be9a7d8b-f497-4831-8705-f33fdcca4890",
   "metadata": {},
   "outputs": [
    {
     "name": "stdout",
     "output_type": "stream",
     "text": [
      "1999    0.001530\n",
      "2000   -0.000277\n",
      "2001    0.000046\n",
      "2002   -0.000012\n",
      "2003   -0.000002\n",
      "          ...   \n",
      "2494   -0.000003\n",
      "2495   -0.000003\n",
      "2496   -0.000003\n",
      "2497   -0.000003\n",
      "2498   -0.000003\n",
      "Name: predicted_mean, Length: 500, dtype: float64\n",
      "0.00021385348920319218\n",
      " RMSE: 0.01462373034499721\n"
     ]
    }
   ],
   "source": [
    "start_index = len(y1_train)\n",
    "end_index = len(y1_train) + len(y1_test) - 1\n",
    "preds = arma.predict(start=start_index, end=end_index,dynamic=True)\n",
    "mse_test = mean_squared_error(preds, y1_test)\n",
    "### ANSWER CHECK\n",
    "print(preds)\n",
    "print(mse_test)\n",
    "print(f\" RMSE: {np.sqrt(mse_test)}\")"
   ]
  },
  {
   "cell_type": "code",
   "execution_count": 179,
   "id": "ec9b57be-0fc8-40a3-921d-7bbae6d3f560",
   "metadata": {},
   "outputs": [
    {
     "data": {
      "text/plain": [
       "2199   -0.000003\n",
       "2200   -0.000003\n",
       "2201   -0.000003\n",
       "2202   -0.000003\n",
       "2203   -0.000003\n",
       "          ...   \n",
       "2494   -0.000003\n",
       "2495   -0.000003\n",
       "2496   -0.000003\n",
       "2497   -0.000003\n",
       "2498   -0.000003\n",
       "Name: predicted_mean, Length: 300, dtype: float64"
      ]
     },
     "execution_count": 179,
     "metadata": {},
     "output_type": "execute_result"
    }
   ],
   "source": [
    "preds.tail(300)"
   ]
  },
  {
   "cell_type": "markdown",
   "id": "3ad258e8-dfef-478d-b3d5-f231c3b318a1",
   "metadata": {},
   "source": [
    "I Decided against replacing any outliers because financial data is known to have spikes for certain economic reasons"
   ]
  },
  {
   "cell_type": "code",
   "execution_count": 180,
   "id": "2c96f06c-6694-4a13-92b9-45f12b023c1a",
   "metadata": {},
   "outputs": [],
   "source": [
    "sarimax = SARIMAX(y1_train,exog=X1_train,  order=(1, 0, 1), seasonal_order=(0, 0, 0, 0)).fit()"
   ]
  },
  {
   "cell_type": "code",
   "execution_count": 181,
   "id": "0c6154ce-eb90-4c92-90b9-b02820dce000",
   "metadata": {},
   "outputs": [
    {
     "data": {
      "text/html": [
       "<table class=\"simpletable\">\n",
       "<caption>SARIMAX Results</caption>\n",
       "<tr>\n",
       "  <th>Dep. Variable:</th>      <td>log_returns</td>   <th>  No. Observations:  </th>    <td>1999</td>   \n",
       "</tr>\n",
       "<tr>\n",
       "  <th>Model:</th>           <td>SARIMAX(1, 0, 1)</td> <th>  Log Likelihood     </th>  <td>5980.625</td> \n",
       "</tr>\n",
       "<tr>\n",
       "  <th>Date:</th>            <td>Tue, 12 Aug 2025</td> <th>  AIC                </th> <td>-11945.249</td>\n",
       "</tr>\n",
       "<tr>\n",
       "  <th>Time:</th>                <td>10:49:20</td>     <th>  BIC                </th> <td>-11900.446</td>\n",
       "</tr>\n",
       "<tr>\n",
       "  <th>Sample:</th>                  <td>0</td>        <th>  HQIC               </th> <td>-11928.798</td>\n",
       "</tr>\n",
       "<tr>\n",
       "  <th></th>                      <td> - 1999</td>     <th>                     </th>      <td> </td>    \n",
       "</tr>\n",
       "<tr>\n",
       "  <th>Covariance Type:</th>        <td>opg</td>       <th>                     </th>      <td> </td>    \n",
       "</tr>\n",
       "</table>\n",
       "<table class=\"simpletable\">\n",
       "<tr>\n",
       "            <td></td>               <th>coef</th>     <th>std err</th>      <th>z</th>      <th>P>|z|</th>  <th>[0.025</th>    <th>0.975]</th>  \n",
       "</tr>\n",
       "<tr>\n",
       "  <th>sp_500_prev_day_close</th> <td>   -0.0004</td> <td> 1.29e-05</td> <td>  -30.794</td> <td> 0.000</td> <td>   -0.000</td> <td>   -0.000</td>\n",
       "</tr>\n",
       "<tr>\n",
       "  <th>vix_prev_day</th>          <td>   -0.0003</td> <td> 5.32e-05</td> <td>   -4.734</td> <td> 0.000</td> <td>   -0.000</td> <td>   -0.000</td>\n",
       "</tr>\n",
       "<tr>\n",
       "  <th>nasdaq_prev_day</th>       <td> 3.403e-05</td> <td> 4.06e-06</td> <td>    8.385</td> <td> 0.000</td> <td> 2.61e-05</td> <td>  4.2e-05</td>\n",
       "</tr>\n",
       "<tr>\n",
       "  <th>russell_2000_prev_day</th> <td>    0.0020</td> <td> 5.09e-05</td> <td>   40.001</td> <td> 0.000</td> <td>    0.002</td> <td>    0.002</td>\n",
       "</tr>\n",
       "<tr>\n",
       "  <th>prev_volume</th>           <td> 4.512e-12</td> <td> 7.23e-12</td> <td>    0.624</td> <td> 0.533</td> <td>-9.66e-12</td> <td> 1.87e-11</td>\n",
       "</tr>\n",
       "<tr>\n",
       "  <th>ar.L1</th>                 <td>   -0.5283</td> <td> 1.75e-07</td> <td>-3.01e+06</td> <td> 0.000</td> <td>   -0.528</td> <td>   -0.528</td>\n",
       "</tr>\n",
       "<tr>\n",
       "  <th>ma.L1</th>                 <td>    0.4883</td> <td> 1.67e-07</td> <td> 2.92e+06</td> <td> 0.000</td> <td>    0.488</td> <td>    0.488</td>\n",
       "</tr>\n",
       "<tr>\n",
       "  <th>sigma2</th>                <td>    0.0001</td> <td>  1.8e-06</td> <td>   81.498</td> <td> 0.000</td> <td>    0.000</td> <td>    0.000</td>\n",
       "</tr>\n",
       "</table>\n",
       "<table class=\"simpletable\">\n",
       "<tr>\n",
       "  <th>Ljung-Box (L1) (Q):</th>     <td>0.01</td> <th>  Jarque-Bera (JB):  </th> <td>13297.10</td>\n",
       "</tr>\n",
       "<tr>\n",
       "  <th>Prob(Q):</th>                <td>0.92</td> <th>  Prob(JB):          </th>   <td>0.00</td>  \n",
       "</tr>\n",
       "<tr>\n",
       "  <th>Heteroskedasticity (H):</th> <td>2.26</td> <th>  Skew:              </th>   <td>-0.71</td> \n",
       "</tr>\n",
       "<tr>\n",
       "  <th>Prob(H) (two-sided):</th>    <td>0.00</td> <th>  Kurtosis:          </th>   <td>15.56</td> \n",
       "</tr>\n",
       "</table><br/><br/>Warnings:<br/>[1] Covariance matrix calculated using the outer product of gradients (complex-step).<br/>[2] Covariance matrix is singular or near-singular, with condition number 1.33e+21. Standard errors may be unstable."
      ],
      "text/latex": [
       "\\begin{center}\n",
       "\\begin{tabular}{lclc}\n",
       "\\toprule\n",
       "\\textbf{Dep. Variable:}            &   log\\_returns   & \\textbf{  No. Observations:  } &    1999     \\\\\n",
       "\\textbf{Model:}                    & SARIMAX(1, 0, 1) & \\textbf{  Log Likelihood     } &  5980.625   \\\\\n",
       "\\textbf{Date:}                     & Tue, 12 Aug 2025 & \\textbf{  AIC                } & -11945.249  \\\\\n",
       "\\textbf{Time:}                     &     10:49:20     & \\textbf{  BIC                } & -11900.446  \\\\\n",
       "\\textbf{Sample:}                   &        0         & \\textbf{  HQIC               } & -11928.798  \\\\\n",
       "\\textbf{}                          &      - 1999      & \\textbf{                     } &             \\\\\n",
       "\\textbf{Covariance Type:}          &       opg        & \\textbf{                     } &             \\\\\n",
       "\\bottomrule\n",
       "\\end{tabular}\n",
       "\\begin{tabular}{lcccccc}\n",
       "                                   & \\textbf{coef} & \\textbf{std err} & \\textbf{z} & \\textbf{P$> |$z$|$} & \\textbf{[0.025} & \\textbf{0.975]}  \\\\\n",
       "\\midrule\n",
       "\\textbf{sp\\_500\\_prev\\_day\\_close} &      -0.0004  &     1.29e-05     &   -30.794  &         0.000        &       -0.000    &       -0.000     \\\\\n",
       "\\textbf{vix\\_prev\\_day}            &      -0.0003  &     5.32e-05     &    -4.734  &         0.000        &       -0.000    &       -0.000     \\\\\n",
       "\\textbf{nasdaq\\_prev\\_day}         &    3.403e-05  &     4.06e-06     &     8.385  &         0.000        &     2.61e-05    &      4.2e-05     \\\\\n",
       "\\textbf{russell\\_2000\\_prev\\_day}  &       0.0020  &     5.09e-05     &    40.001  &         0.000        &        0.002    &        0.002     \\\\\n",
       "\\textbf{prev\\_volume}              &    4.512e-12  &     7.23e-12     &     0.624  &         0.533        &    -9.66e-12    &     1.87e-11     \\\\\n",
       "\\textbf{ar.L1}                     &      -0.5283  &     1.75e-07     & -3.01e+06  &         0.000        &       -0.528    &       -0.528     \\\\\n",
       "\\textbf{ma.L1}                     &       0.4883  &     1.67e-07     &  2.92e+06  &         0.000        &        0.488    &        0.488     \\\\\n",
       "\\textbf{sigma2}                    &       0.0001  &      1.8e-06     &    81.498  &         0.000        &        0.000    &        0.000     \\\\\n",
       "\\bottomrule\n",
       "\\end{tabular}\n",
       "\\begin{tabular}{lclc}\n",
       "\\textbf{Ljung-Box (L1) (Q):}     & 0.01 & \\textbf{  Jarque-Bera (JB):  } & 13297.10  \\\\\n",
       "\\textbf{Prob(Q):}                & 0.92 & \\textbf{  Prob(JB):          } &   0.00    \\\\\n",
       "\\textbf{Heteroskedasticity (H):} & 2.26 & \\textbf{  Skew:              } &  -0.71    \\\\\n",
       "\\textbf{Prob(H) (two-sided):}    & 0.00 & \\textbf{  Kurtosis:          } &  15.56    \\\\\n",
       "\\bottomrule\n",
       "\\end{tabular}\n",
       "%\\caption{SARIMAX Results}\n",
       "\\end{center}\n",
       "\n",
       "Warnings: \\newline\n",
       " [1] Covariance matrix calculated using the outer product of gradients (complex-step). \\newline\n",
       " [2] Covariance matrix is singular or near-singular, with condition number 1.33e+21. Standard errors may be unstable."
      ],
      "text/plain": [
       "<class 'statsmodels.iolib.summary.Summary'>\n",
       "\"\"\"\n",
       "                               SARIMAX Results                                \n",
       "==============================================================================\n",
       "Dep. Variable:            log_returns   No. Observations:                 1999\n",
       "Model:               SARIMAX(1, 0, 1)   Log Likelihood                5980.625\n",
       "Date:                Tue, 12 Aug 2025   AIC                         -11945.249\n",
       "Time:                        10:49:20   BIC                         -11900.446\n",
       "Sample:                             0   HQIC                        -11928.798\n",
       "                               - 1999                                         \n",
       "Covariance Type:                  opg                                         \n",
       "=========================================================================================\n",
       "                            coef    std err          z      P>|z|      [0.025      0.975]\n",
       "-----------------------------------------------------------------------------------------\n",
       "sp_500_prev_day_close    -0.0004   1.29e-05    -30.794      0.000      -0.000      -0.000\n",
       "vix_prev_day             -0.0003   5.32e-05     -4.734      0.000      -0.000      -0.000\n",
       "nasdaq_prev_day        3.403e-05   4.06e-06      8.385      0.000    2.61e-05     4.2e-05\n",
       "russell_2000_prev_day     0.0020   5.09e-05     40.001      0.000       0.002       0.002\n",
       "prev_volume            4.512e-12   7.23e-12      0.624      0.533   -9.66e-12    1.87e-11\n",
       "ar.L1                    -0.5283   1.75e-07  -3.01e+06      0.000      -0.528      -0.528\n",
       "ma.L1                     0.4883   1.67e-07   2.92e+06      0.000       0.488       0.488\n",
       "sigma2                    0.0001    1.8e-06     81.498      0.000       0.000       0.000\n",
       "===================================================================================\n",
       "Ljung-Box (L1) (Q):                   0.01   Jarque-Bera (JB):             13297.10\n",
       "Prob(Q):                              0.92   Prob(JB):                         0.00\n",
       "Heteroskedasticity (H):               2.26   Skew:                            -0.71\n",
       "Prob(H) (two-sided):                  0.00   Kurtosis:                        15.56\n",
       "===================================================================================\n",
       "\n",
       "Warnings:\n",
       "[1] Covariance matrix calculated using the outer product of gradients (complex-step).\n",
       "[2] Covariance matrix is singular or near-singular, with condition number 1.33e+21. Standard errors may be unstable.\n",
       "\"\"\""
      ]
     },
     "execution_count": 181,
     "metadata": {},
     "output_type": "execute_result"
    }
   ],
   "source": [
    "sarimax.summary()"
   ]
  },
  {
   "cell_type": "code",
   "execution_count": 182,
   "id": "56464ab5-5568-46ef-a118-ab18f69a288e",
   "metadata": {},
   "outputs": [
    {
     "name": "stdout",
     "output_type": "stream",
     "text": [
      "1999   -0.002479\n",
      "2000   -0.005500\n",
      "2001    0.017146\n",
      "2002    0.008936\n",
      "2003    0.010181\n",
      "          ...   \n",
      "2494   -0.027401\n",
      "2495    0.007663\n",
      "2496   -0.010521\n",
      "2497    0.004458\n",
      "2498   -0.014417\n",
      "Name: predicted_mean, Length: 500, dtype: float64\n",
      "0.00014800254703502125\n"
     ]
    }
   ],
   "source": [
    "sarimax_start_index = len(y1_train)\n",
    "sarimax_end_index = len(y1_train) + len(y1_test) - 1\n",
    "sarimax_preds = sarimax.predict(start=start_index, end=end_index, exog=X1_test,dynamic=True)\n",
    "sarimax_mse_test = mean_squared_error(sarimax_preds, y1_test)\n",
    "### ANSWER CHECK\n",
    "print(sarimax_preds)\n",
    "print(sarimax_mse_test)"
   ]
  },
  {
   "cell_type": "code",
   "execution_count": 183,
   "id": "5c201470-254d-4f2a-bad2-db6dc4e6ff23",
   "metadata": {},
   "outputs": [
    {
     "name": "stdout",
     "output_type": "stream",
     "text": [
      " RMSE: 0.012165629742640587\n"
     ]
    }
   ],
   "source": [
    "print(f\" RMSE: {np.sqrt(sarimax_mse_test)}\")"
   ]
  },
  {
   "cell_type": "code",
   "execution_count": 184,
   "id": "b9aab64e-b6f6-4965-9501-b3af7a7a5498",
   "metadata": {},
   "outputs": [
    {
     "data": {
      "text/plain": [
       "0.014625668890608892"
      ]
     },
     "execution_count": 184,
     "metadata": {},
     "output_type": "execute_result"
    }
   ],
   "source": [
    "np.std(y1_test)"
   ]
  },
  {
   "cell_type": "markdown",
   "id": "32adcff2-b646-412e-8e0d-be6e31be4979",
   "metadata": {},
   "source": [
    "Below I am building an LSTM:"
   ]
  },
  {
   "cell_type": "code",
   "execution_count": 185,
   "id": "089c51dd-6d2a-495b-8b14-15c3b942ef1d",
   "metadata": {},
   "outputs": [
    {
     "name": "stdout",
     "output_type": "stream",
     "text": [
      "ADF Statistic: -15.963216\n",
      "p-value: 0.000000\n",
      "Critical Values:\n",
      "\t1%: -3.432999172889712\n",
      "\t5%: -2.862710384473485\n",
      "\t10%: -2.5673930420019127\n"
     ]
    }
   ],
   "source": [
    "lstmdata = diffdata.drop('close_price',axis=1)\n",
    "result = adfuller(lstmdata['log_returns'])\n",
    "\n",
    "# The result is a tuple, so we can unpack it\n",
    "print('ADF Statistic: %f' % result[0])\n",
    "print('p-value: %f' % result[1])\n",
    "print('Critical Values:')\n",
    "for key, value in result[4].items():\n",
    "    print(f'\\t{key}: {value}')"
   ]
  },
  {
   "cell_type": "code",
   "execution_count": 186,
   "id": "f4c01ea9-d842-44c0-a61f-a1fa6d54c774",
   "metadata": {},
   "outputs": [
    {
     "name": "stdout",
     "output_type": "stream",
     "text": [
      "<class 'pandas.core.frame.DataFrame'>\n",
      "DatetimeIndex: 1666 entries, 2015-09-02 to 2022-04-13\n",
      "Data columns (total 7 columns):\n",
      " #   Column                 Non-Null Count  Dtype  \n",
      "---  ------                 --------------  -----  \n",
      " 0   sp_500_prev_day_close  1666 non-null   float64\n",
      " 1   vix_prev_day           1666 non-null   float64\n",
      " 2   nasdaq_prev_day        1666 non-null   float64\n",
      " 3   russell_2000_prev_day  1666 non-null   float64\n",
      " 4   prev_volume            1666 non-null   float64\n",
      " 5   log_returns            1666 non-null   float64\n",
      " 6   points_change          1666 non-null   float64\n",
      "dtypes: float64(7)\n",
      "memory usage: 104.1 KB\n"
     ]
    }
   ],
   "source": [
    "train = lstmdata[:1666]\n",
    "test = lstmdata[1666:]\n",
    "train.info()"
   ]
  },
  {
   "cell_type": "code",
   "execution_count": 187,
   "id": "f68e04c4-73e3-4a7b-9e4c-943084019ef7",
   "metadata": {},
   "outputs": [],
   "source": [
    "#SCALED DATA:\n",
    "train_scaled = MinMaxScaler(feature_range=(0, 1)).fit_transform(train)\n",
    "test_scaled = MinMaxScaler(feature_range=(0, 1)).fit_transform(test)"
   ]
  },
  {
   "cell_type": "code",
   "execution_count": 188,
   "id": "d1b0c3f2-8449-4109-9c8b-ac9d40d3e659",
   "metadata": {},
   "outputs": [
    {
     "data": {
      "text/html": [
       "<style>#sk-container-id-2 {\n",
       "  /* Definition of color scheme common for light and dark mode */\n",
       "  --sklearn-color-text: #000;\n",
       "  --sklearn-color-text-muted: #666;\n",
       "  --sklearn-color-line: gray;\n",
       "  /* Definition of color scheme for unfitted estimators */\n",
       "  --sklearn-color-unfitted-level-0: #fff5e6;\n",
       "  --sklearn-color-unfitted-level-1: #f6e4d2;\n",
       "  --sklearn-color-unfitted-level-2: #ffe0b3;\n",
       "  --sklearn-color-unfitted-level-3: chocolate;\n",
       "  /* Definition of color scheme for fitted estimators */\n",
       "  --sklearn-color-fitted-level-0: #f0f8ff;\n",
       "  --sklearn-color-fitted-level-1: #d4ebff;\n",
       "  --sklearn-color-fitted-level-2: #b3dbfd;\n",
       "  --sklearn-color-fitted-level-3: cornflowerblue;\n",
       "\n",
       "  /* Specific color for light theme */\n",
       "  --sklearn-color-text-on-default-background: var(--sg-text-color, var(--theme-code-foreground, var(--jp-content-font-color1, black)));\n",
       "  --sklearn-color-background: var(--sg-background-color, var(--theme-background, var(--jp-layout-color0, white)));\n",
       "  --sklearn-color-border-box: var(--sg-text-color, var(--theme-code-foreground, var(--jp-content-font-color1, black)));\n",
       "  --sklearn-color-icon: #696969;\n",
       "\n",
       "  @media (prefers-color-scheme: dark) {\n",
       "    /* Redefinition of color scheme for dark theme */\n",
       "    --sklearn-color-text-on-default-background: var(--sg-text-color, var(--theme-code-foreground, var(--jp-content-font-color1, white)));\n",
       "    --sklearn-color-background: var(--sg-background-color, var(--theme-background, var(--jp-layout-color0, #111)));\n",
       "    --sklearn-color-border-box: var(--sg-text-color, var(--theme-code-foreground, var(--jp-content-font-color1, white)));\n",
       "    --sklearn-color-icon: #878787;\n",
       "  }\n",
       "}\n",
       "\n",
       "#sk-container-id-2 {\n",
       "  color: var(--sklearn-color-text);\n",
       "}\n",
       "\n",
       "#sk-container-id-2 pre {\n",
       "  padding: 0;\n",
       "}\n",
       "\n",
       "#sk-container-id-2 input.sk-hidden--visually {\n",
       "  border: 0;\n",
       "  clip: rect(1px 1px 1px 1px);\n",
       "  clip: rect(1px, 1px, 1px, 1px);\n",
       "  height: 1px;\n",
       "  margin: -1px;\n",
       "  overflow: hidden;\n",
       "  padding: 0;\n",
       "  position: absolute;\n",
       "  width: 1px;\n",
       "}\n",
       "\n",
       "#sk-container-id-2 div.sk-dashed-wrapped {\n",
       "  border: 1px dashed var(--sklearn-color-line);\n",
       "  margin: 0 0.4em 0.5em 0.4em;\n",
       "  box-sizing: border-box;\n",
       "  padding-bottom: 0.4em;\n",
       "  background-color: var(--sklearn-color-background);\n",
       "}\n",
       "\n",
       "#sk-container-id-2 div.sk-container {\n",
       "  /* jupyter's `normalize.less` sets `[hidden] { display: none; }`\n",
       "     but bootstrap.min.css set `[hidden] { display: none !important; }`\n",
       "     so we also need the `!important` here to be able to override the\n",
       "     default hidden behavior on the sphinx rendered scikit-learn.org.\n",
       "     See: https://github.com/scikit-learn/scikit-learn/issues/21755 */\n",
       "  display: inline-block !important;\n",
       "  position: relative;\n",
       "}\n",
       "\n",
       "#sk-container-id-2 div.sk-text-repr-fallback {\n",
       "  display: none;\n",
       "}\n",
       "\n",
       "div.sk-parallel-item,\n",
       "div.sk-serial,\n",
       "div.sk-item {\n",
       "  /* draw centered vertical line to link estimators */\n",
       "  background-image: linear-gradient(var(--sklearn-color-text-on-default-background), var(--sklearn-color-text-on-default-background));\n",
       "  background-size: 2px 100%;\n",
       "  background-repeat: no-repeat;\n",
       "  background-position: center center;\n",
       "}\n",
       "\n",
       "/* Parallel-specific style estimator block */\n",
       "\n",
       "#sk-container-id-2 div.sk-parallel-item::after {\n",
       "  content: \"\";\n",
       "  width: 100%;\n",
       "  border-bottom: 2px solid var(--sklearn-color-text-on-default-background);\n",
       "  flex-grow: 1;\n",
       "}\n",
       "\n",
       "#sk-container-id-2 div.sk-parallel {\n",
       "  display: flex;\n",
       "  align-items: stretch;\n",
       "  justify-content: center;\n",
       "  background-color: var(--sklearn-color-background);\n",
       "  position: relative;\n",
       "}\n",
       "\n",
       "#sk-container-id-2 div.sk-parallel-item {\n",
       "  display: flex;\n",
       "  flex-direction: column;\n",
       "}\n",
       "\n",
       "#sk-container-id-2 div.sk-parallel-item:first-child::after {\n",
       "  align-self: flex-end;\n",
       "  width: 50%;\n",
       "}\n",
       "\n",
       "#sk-container-id-2 div.sk-parallel-item:last-child::after {\n",
       "  align-self: flex-start;\n",
       "  width: 50%;\n",
       "}\n",
       "\n",
       "#sk-container-id-2 div.sk-parallel-item:only-child::after {\n",
       "  width: 0;\n",
       "}\n",
       "\n",
       "/* Serial-specific style estimator block */\n",
       "\n",
       "#sk-container-id-2 div.sk-serial {\n",
       "  display: flex;\n",
       "  flex-direction: column;\n",
       "  align-items: center;\n",
       "  background-color: var(--sklearn-color-background);\n",
       "  padding-right: 1em;\n",
       "  padding-left: 1em;\n",
       "}\n",
       "\n",
       "\n",
       "/* Toggleable style: style used for estimator/Pipeline/ColumnTransformer box that is\n",
       "clickable and can be expanded/collapsed.\n",
       "- Pipeline and ColumnTransformer use this feature and define the default style\n",
       "- Estimators will overwrite some part of the style using the `sk-estimator` class\n",
       "*/\n",
       "\n",
       "/* Pipeline and ColumnTransformer style (default) */\n",
       "\n",
       "#sk-container-id-2 div.sk-toggleable {\n",
       "  /* Default theme specific background. It is overwritten whether we have a\n",
       "  specific estimator or a Pipeline/ColumnTransformer */\n",
       "  background-color: var(--sklearn-color-background);\n",
       "}\n",
       "\n",
       "/* Toggleable label */\n",
       "#sk-container-id-2 label.sk-toggleable__label {\n",
       "  cursor: pointer;\n",
       "  display: flex;\n",
       "  width: 100%;\n",
       "  margin-bottom: 0;\n",
       "  padding: 0.5em;\n",
       "  box-sizing: border-box;\n",
       "  text-align: center;\n",
       "  align-items: start;\n",
       "  justify-content: space-between;\n",
       "  gap: 0.5em;\n",
       "}\n",
       "\n",
       "#sk-container-id-2 label.sk-toggleable__label .caption {\n",
       "  font-size: 0.6rem;\n",
       "  font-weight: lighter;\n",
       "  color: var(--sklearn-color-text-muted);\n",
       "}\n",
       "\n",
       "#sk-container-id-2 label.sk-toggleable__label-arrow:before {\n",
       "  /* Arrow on the left of the label */\n",
       "  content: \"▸\";\n",
       "  float: left;\n",
       "  margin-right: 0.25em;\n",
       "  color: var(--sklearn-color-icon);\n",
       "}\n",
       "\n",
       "#sk-container-id-2 label.sk-toggleable__label-arrow:hover:before {\n",
       "  color: var(--sklearn-color-text);\n",
       "}\n",
       "\n",
       "/* Toggleable content - dropdown */\n",
       "\n",
       "#sk-container-id-2 div.sk-toggleable__content {\n",
       "  display: none;\n",
       "  text-align: left;\n",
       "  /* unfitted */\n",
       "  background-color: var(--sklearn-color-unfitted-level-0);\n",
       "}\n",
       "\n",
       "#sk-container-id-2 div.sk-toggleable__content.fitted {\n",
       "  /* fitted */\n",
       "  background-color: var(--sklearn-color-fitted-level-0);\n",
       "}\n",
       "\n",
       "#sk-container-id-2 div.sk-toggleable__content pre {\n",
       "  margin: 0.2em;\n",
       "  border-radius: 0.25em;\n",
       "  color: var(--sklearn-color-text);\n",
       "  /* unfitted */\n",
       "  background-color: var(--sklearn-color-unfitted-level-0);\n",
       "}\n",
       "\n",
       "#sk-container-id-2 div.sk-toggleable__content.fitted pre {\n",
       "  /* unfitted */\n",
       "  background-color: var(--sklearn-color-fitted-level-0);\n",
       "}\n",
       "\n",
       "#sk-container-id-2 input.sk-toggleable__control:checked~div.sk-toggleable__content {\n",
       "  /* Expand drop-down */\n",
       "  display: block;\n",
       "  width: 100%;\n",
       "  overflow: visible;\n",
       "}\n",
       "\n",
       "#sk-container-id-2 input.sk-toggleable__control:checked~label.sk-toggleable__label-arrow:before {\n",
       "  content: \"▾\";\n",
       "}\n",
       "\n",
       "/* Pipeline/ColumnTransformer-specific style */\n",
       "\n",
       "#sk-container-id-2 div.sk-label input.sk-toggleable__control:checked~label.sk-toggleable__label {\n",
       "  color: var(--sklearn-color-text);\n",
       "  background-color: var(--sklearn-color-unfitted-level-2);\n",
       "}\n",
       "\n",
       "#sk-container-id-2 div.sk-label.fitted input.sk-toggleable__control:checked~label.sk-toggleable__label {\n",
       "  background-color: var(--sklearn-color-fitted-level-2);\n",
       "}\n",
       "\n",
       "/* Estimator-specific style */\n",
       "\n",
       "/* Colorize estimator box */\n",
       "#sk-container-id-2 div.sk-estimator input.sk-toggleable__control:checked~label.sk-toggleable__label {\n",
       "  /* unfitted */\n",
       "  background-color: var(--sklearn-color-unfitted-level-2);\n",
       "}\n",
       "\n",
       "#sk-container-id-2 div.sk-estimator.fitted input.sk-toggleable__control:checked~label.sk-toggleable__label {\n",
       "  /* fitted */\n",
       "  background-color: var(--sklearn-color-fitted-level-2);\n",
       "}\n",
       "\n",
       "#sk-container-id-2 div.sk-label label.sk-toggleable__label,\n",
       "#sk-container-id-2 div.sk-label label {\n",
       "  /* The background is the default theme color */\n",
       "  color: var(--sklearn-color-text-on-default-background);\n",
       "}\n",
       "\n",
       "/* On hover, darken the color of the background */\n",
       "#sk-container-id-2 div.sk-label:hover label.sk-toggleable__label {\n",
       "  color: var(--sklearn-color-text);\n",
       "  background-color: var(--sklearn-color-unfitted-level-2);\n",
       "}\n",
       "\n",
       "/* Label box, darken color on hover, fitted */\n",
       "#sk-container-id-2 div.sk-label.fitted:hover label.sk-toggleable__label.fitted {\n",
       "  color: var(--sklearn-color-text);\n",
       "  background-color: var(--sklearn-color-fitted-level-2);\n",
       "}\n",
       "\n",
       "/* Estimator label */\n",
       "\n",
       "#sk-container-id-2 div.sk-label label {\n",
       "  font-family: monospace;\n",
       "  font-weight: bold;\n",
       "  display: inline-block;\n",
       "  line-height: 1.2em;\n",
       "}\n",
       "\n",
       "#sk-container-id-2 div.sk-label-container {\n",
       "  text-align: center;\n",
       "}\n",
       "\n",
       "/* Estimator-specific */\n",
       "#sk-container-id-2 div.sk-estimator {\n",
       "  font-family: monospace;\n",
       "  border: 1px dotted var(--sklearn-color-border-box);\n",
       "  border-radius: 0.25em;\n",
       "  box-sizing: border-box;\n",
       "  margin-bottom: 0.5em;\n",
       "  /* unfitted */\n",
       "  background-color: var(--sklearn-color-unfitted-level-0);\n",
       "}\n",
       "\n",
       "#sk-container-id-2 div.sk-estimator.fitted {\n",
       "  /* fitted */\n",
       "  background-color: var(--sklearn-color-fitted-level-0);\n",
       "}\n",
       "\n",
       "/* on hover */\n",
       "#sk-container-id-2 div.sk-estimator:hover {\n",
       "  /* unfitted */\n",
       "  background-color: var(--sklearn-color-unfitted-level-2);\n",
       "}\n",
       "\n",
       "#sk-container-id-2 div.sk-estimator.fitted:hover {\n",
       "  /* fitted */\n",
       "  background-color: var(--sklearn-color-fitted-level-2);\n",
       "}\n",
       "\n",
       "/* Specification for estimator info (e.g. \"i\" and \"?\") */\n",
       "\n",
       "/* Common style for \"i\" and \"?\" */\n",
       "\n",
       ".sk-estimator-doc-link,\n",
       "a:link.sk-estimator-doc-link,\n",
       "a:visited.sk-estimator-doc-link {\n",
       "  float: right;\n",
       "  font-size: smaller;\n",
       "  line-height: 1em;\n",
       "  font-family: monospace;\n",
       "  background-color: var(--sklearn-color-background);\n",
       "  border-radius: 1em;\n",
       "  height: 1em;\n",
       "  width: 1em;\n",
       "  text-decoration: none !important;\n",
       "  margin-left: 0.5em;\n",
       "  text-align: center;\n",
       "  /* unfitted */\n",
       "  border: var(--sklearn-color-unfitted-level-1) 1pt solid;\n",
       "  color: var(--sklearn-color-unfitted-level-1);\n",
       "}\n",
       "\n",
       ".sk-estimator-doc-link.fitted,\n",
       "a:link.sk-estimator-doc-link.fitted,\n",
       "a:visited.sk-estimator-doc-link.fitted {\n",
       "  /* fitted */\n",
       "  border: var(--sklearn-color-fitted-level-1) 1pt solid;\n",
       "  color: var(--sklearn-color-fitted-level-1);\n",
       "}\n",
       "\n",
       "/* On hover */\n",
       "div.sk-estimator:hover .sk-estimator-doc-link:hover,\n",
       ".sk-estimator-doc-link:hover,\n",
       "div.sk-label-container:hover .sk-estimator-doc-link:hover,\n",
       ".sk-estimator-doc-link:hover {\n",
       "  /* unfitted */\n",
       "  background-color: var(--sklearn-color-unfitted-level-3);\n",
       "  color: var(--sklearn-color-background);\n",
       "  text-decoration: none;\n",
       "}\n",
       "\n",
       "div.sk-estimator.fitted:hover .sk-estimator-doc-link.fitted:hover,\n",
       ".sk-estimator-doc-link.fitted:hover,\n",
       "div.sk-label-container:hover .sk-estimator-doc-link.fitted:hover,\n",
       ".sk-estimator-doc-link.fitted:hover {\n",
       "  /* fitted */\n",
       "  background-color: var(--sklearn-color-fitted-level-3);\n",
       "  color: var(--sklearn-color-background);\n",
       "  text-decoration: none;\n",
       "}\n",
       "\n",
       "/* Span, style for the box shown on hovering the info icon */\n",
       ".sk-estimator-doc-link span {\n",
       "  display: none;\n",
       "  z-index: 9999;\n",
       "  position: relative;\n",
       "  font-weight: normal;\n",
       "  right: .2ex;\n",
       "  padding: .5ex;\n",
       "  margin: .5ex;\n",
       "  width: min-content;\n",
       "  min-width: 20ex;\n",
       "  max-width: 50ex;\n",
       "  color: var(--sklearn-color-text);\n",
       "  box-shadow: 2pt 2pt 4pt #999;\n",
       "  /* unfitted */\n",
       "  background: var(--sklearn-color-unfitted-level-0);\n",
       "  border: .5pt solid var(--sklearn-color-unfitted-level-3);\n",
       "}\n",
       "\n",
       ".sk-estimator-doc-link.fitted span {\n",
       "  /* fitted */\n",
       "  background: var(--sklearn-color-fitted-level-0);\n",
       "  border: var(--sklearn-color-fitted-level-3);\n",
       "}\n",
       "\n",
       ".sk-estimator-doc-link:hover span {\n",
       "  display: block;\n",
       "}\n",
       "\n",
       "/* \"?\"-specific style due to the `<a>` HTML tag */\n",
       "\n",
       "#sk-container-id-2 a.estimator_doc_link {\n",
       "  float: right;\n",
       "  font-size: 1rem;\n",
       "  line-height: 1em;\n",
       "  font-family: monospace;\n",
       "  background-color: var(--sklearn-color-background);\n",
       "  border-radius: 1rem;\n",
       "  height: 1rem;\n",
       "  width: 1rem;\n",
       "  text-decoration: none;\n",
       "  /* unfitted */\n",
       "  color: var(--sklearn-color-unfitted-level-1);\n",
       "  border: var(--sklearn-color-unfitted-level-1) 1pt solid;\n",
       "}\n",
       "\n",
       "#sk-container-id-2 a.estimator_doc_link.fitted {\n",
       "  /* fitted */\n",
       "  border: var(--sklearn-color-fitted-level-1) 1pt solid;\n",
       "  color: var(--sklearn-color-fitted-level-1);\n",
       "}\n",
       "\n",
       "/* On hover */\n",
       "#sk-container-id-2 a.estimator_doc_link:hover {\n",
       "  /* unfitted */\n",
       "  background-color: var(--sklearn-color-unfitted-level-3);\n",
       "  color: var(--sklearn-color-background);\n",
       "  text-decoration: none;\n",
       "}\n",
       "\n",
       "#sk-container-id-2 a.estimator_doc_link.fitted:hover {\n",
       "  /* fitted */\n",
       "  background-color: var(--sklearn-color-fitted-level-3);\n",
       "}\n",
       "\n",
       ".estimator-table summary {\n",
       "    padding: .5rem;\n",
       "    font-family: monospace;\n",
       "    cursor: pointer;\n",
       "}\n",
       "\n",
       ".estimator-table details[open] {\n",
       "    padding-left: 0.1rem;\n",
       "    padding-right: 0.1rem;\n",
       "    padding-bottom: 0.3rem;\n",
       "}\n",
       "\n",
       ".estimator-table .parameters-table {\n",
       "    margin-left: auto !important;\n",
       "    margin-right: auto !important;\n",
       "}\n",
       "\n",
       ".estimator-table .parameters-table tr:nth-child(odd) {\n",
       "    background-color: #fff;\n",
       "}\n",
       "\n",
       ".estimator-table .parameters-table tr:nth-child(even) {\n",
       "    background-color: #f6f6f6;\n",
       "}\n",
       "\n",
       ".estimator-table .parameters-table tr:hover {\n",
       "    background-color: #e0e0e0;\n",
       "}\n",
       "\n",
       ".estimator-table table td {\n",
       "    border: 1px solid rgba(106, 105, 104, 0.232);\n",
       "}\n",
       "\n",
       ".user-set td {\n",
       "    color:rgb(255, 94, 0);\n",
       "    text-align: left;\n",
       "}\n",
       "\n",
       ".user-set td.value pre {\n",
       "    color:rgb(255, 94, 0) !important;\n",
       "    background-color: transparent !important;\n",
       "}\n",
       "\n",
       ".default td {\n",
       "    color: black;\n",
       "    text-align: left;\n",
       "}\n",
       "\n",
       ".user-set td i,\n",
       ".default td i {\n",
       "    color: black;\n",
       "}\n",
       "\n",
       ".copy-paste-icon {\n",
       "    background-image: url(data:image/svg+xml;base64,PHN2ZyB4bWxucz0iaHR0cDovL3d3dy53My5vcmcvMjAwMC9zdmciIHZpZXdCb3g9IjAgMCA0NDggNTEyIj48IS0tIUZvbnQgQXdlc29tZSBGcmVlIDYuNy4yIGJ5IEBmb250YXdlc29tZSAtIGh0dHBzOi8vZm9udGF3ZXNvbWUuY29tIExpY2Vuc2UgLSBodHRwczovL2ZvbnRhd2Vzb21lLmNvbS9saWNlbnNlL2ZyZWUgQ29weXJpZ2h0IDIwMjUgRm9udGljb25zLCBJbmMuLS0+PHBhdGggZD0iTTIwOCAwTDMzMi4xIDBjMTIuNyAwIDI0LjkgNS4xIDMzLjkgMTQuMWw2Ny45IDY3LjljOSA5IDE0LjEgMjEuMiAxNC4xIDMzLjlMNDQ4IDMzNmMwIDI2LjUtMjEuNSA0OC00OCA0OGwtMTkyIDBjLTI2LjUgMC00OC0yMS41LTQ4LTQ4bDAtMjg4YzAtMjYuNSAyMS41LTQ4IDQ4LTQ4ek00OCAxMjhsODAgMCAwIDY0LTY0IDAgMCAyNTYgMTkyIDAgMC0zMiA2NCAwIDAgNDhjMCAyNi41LTIxLjUgNDgtNDggNDhMNDggNTEyYy0yNi41IDAtNDgtMjEuNS00OC00OEwwIDE3NmMwLTI2LjUgMjEuNS00OCA0OC00OHoiLz48L3N2Zz4=);\n",
       "    background-repeat: no-repeat;\n",
       "    background-size: 14px 14px;\n",
       "    background-position: 0;\n",
       "    display: inline-block;\n",
       "    width: 14px;\n",
       "    height: 14px;\n",
       "    cursor: pointer;\n",
       "}\n",
       "</style><body><div id=\"sk-container-id-2\" class=\"sk-top-container\"><div class=\"sk-text-repr-fallback\"><pre>MinMaxScaler()</pre><b>In a Jupyter environment, please rerun this cell to show the HTML representation or trust the notebook. <br />On GitHub, the HTML representation is unable to render, please try loading this page with nbviewer.org.</b></div><div class=\"sk-container\" hidden><div class=\"sk-item\"><div class=\"sk-estimator fitted sk-toggleable\"><input class=\"sk-toggleable__control sk-hidden--visually\" id=\"sk-estimator-id-2\" type=\"checkbox\" checked><label for=\"sk-estimator-id-2\" class=\"sk-toggleable__label fitted sk-toggleable__label-arrow\"><div><div>MinMaxScaler</div></div><div><a class=\"sk-estimator-doc-link fitted\" rel=\"noreferrer\" target=\"_blank\" href=\"https://scikit-learn.org/1.7/modules/generated/sklearn.preprocessing.MinMaxScaler.html\">?<span>Documentation for MinMaxScaler</span></a><span class=\"sk-estimator-doc-link fitted\">i<span>Fitted</span></span></div></label><div class=\"sk-toggleable__content fitted\" data-param-prefix=\"\">\n",
       "        <div class=\"estimator-table\">\n",
       "            <details>\n",
       "                <summary>Parameters</summary>\n",
       "                <table class=\"parameters-table\">\n",
       "                  <tbody>\n",
       "                    \n",
       "        <tr class=\"default\">\n",
       "            <td><i class=\"copy-paste-icon\"\n",
       "                 onclick=\"copyToClipboard('feature_range',\n",
       "                          this.parentElement.nextElementSibling)\"\n",
       "            ></i></td>\n",
       "            <td class=\"param\">feature_range&nbsp;</td>\n",
       "            <td class=\"value\">(0, ...)</td>\n",
       "        </tr>\n",
       "    \n",
       "\n",
       "        <tr class=\"default\">\n",
       "            <td><i class=\"copy-paste-icon\"\n",
       "                 onclick=\"copyToClipboard('copy',\n",
       "                          this.parentElement.nextElementSibling)\"\n",
       "            ></i></td>\n",
       "            <td class=\"param\">copy&nbsp;</td>\n",
       "            <td class=\"value\">True</td>\n",
       "        </tr>\n",
       "    \n",
       "\n",
       "        <tr class=\"default\">\n",
       "            <td><i class=\"copy-paste-icon\"\n",
       "                 onclick=\"copyToClipboard('clip',\n",
       "                          this.parentElement.nextElementSibling)\"\n",
       "            ></i></td>\n",
       "            <td class=\"param\">clip&nbsp;</td>\n",
       "            <td class=\"value\">False</td>\n",
       "        </tr>\n",
       "    \n",
       "                  </tbody>\n",
       "                </table>\n",
       "            </details>\n",
       "        </div>\n",
       "    </div></div></div></div></div><script>function copyToClipboard(text, element) {\n",
       "    // Get the parameter prefix from the closest toggleable content\n",
       "    const toggleableContent = element.closest('.sk-toggleable__content');\n",
       "    const paramPrefix = toggleableContent ? toggleableContent.dataset.paramPrefix : '';\n",
       "    const fullParamName = paramPrefix ? `${paramPrefix}${text}` : text;\n",
       "\n",
       "    const originalStyle = element.style;\n",
       "    const computedStyle = window.getComputedStyle(element);\n",
       "    const originalWidth = computedStyle.width;\n",
       "    const originalHTML = element.innerHTML.replace('Copied!', '');\n",
       "\n",
       "    navigator.clipboard.writeText(fullParamName)\n",
       "        .then(() => {\n",
       "            element.style.width = originalWidth;\n",
       "            element.style.color = 'green';\n",
       "            element.innerHTML = \"Copied!\";\n",
       "\n",
       "            setTimeout(() => {\n",
       "                element.innerHTML = originalHTML;\n",
       "                element.style = originalStyle;\n",
       "            }, 2000);\n",
       "        })\n",
       "        .catch(err => {\n",
       "            console.error('Failed to copy:', err);\n",
       "            element.style.color = 'red';\n",
       "            element.innerHTML = \"Failed!\";\n",
       "            setTimeout(() => {\n",
       "                element.innerHTML = originalHTML;\n",
       "                element.style = originalStyle;\n",
       "            }, 2000);\n",
       "        });\n",
       "    return false;\n",
       "}\n",
       "\n",
       "document.querySelectorAll('.fa-regular.fa-copy').forEach(function(element) {\n",
       "    const toggleableContent = element.closest('.sk-toggleable__content');\n",
       "    const paramPrefix = toggleableContent ? toggleableContent.dataset.paramPrefix : '';\n",
       "    const paramName = element.parentElement.nextElementSibling.textContent.trim();\n",
       "    const fullParamName = paramPrefix ? `${paramPrefix}${paramName}` : paramName;\n",
       "\n",
       "    element.setAttribute('title', fullParamName);\n",
       "});\n",
       "</script></body>"
      ],
      "text/plain": [
       "MinMaxScaler()"
      ]
     },
     "execution_count": 188,
     "metadata": {},
     "output_type": "execute_result"
    }
   ],
   "source": [
    "scaler = MinMaxScaler(feature_range=(0, 1))\n",
    "scaler.fit(train)"
   ]
  },
  {
   "cell_type": "code",
   "execution_count": 189,
   "id": "fcea3b5d-ed0e-4cb7-b730-c186aec6563d",
   "metadata": {},
   "outputs": [],
   "source": [
    "def create_sequences(data, seq_length):\n",
    "    X = []\n",
    "    y = []\n",
    "    # Loop from the beginning of the data until the end,\n",
    "    # leaving enough room for the last sequence and its target\n",
    "    for i in range(len(data) - seq_length):\n",
    "        X.append(data[i:(i + seq_length)])\n",
    "        y.append(data[i + seq_length, 5])\n",
    "    return np.array(X), np.array(y)\n",
    "\n"
   ]
  },
  {
   "cell_type": "code",
   "execution_count": 190,
   "id": "05b5f87a-9579-4a68-89c4-692ceec469a3",
   "metadata": {},
   "outputs": [],
   "source": [
    "\n",
    "seq_length = 50  # For example, using the last 90 trading days\n",
    "\n",
    "# Create sequences for the training set\n",
    "X3_train, y3_train = create_sequences(train_scaled, seq_length)\n",
    "\n",
    "# Create sequences for the testing set\n",
    "X3_test, y3_test = create_sequences(test_scaled, seq_length)\n"
   ]
  },
  {
   "cell_type": "code",
   "execution_count": 191,
   "id": "0fe79cef-f08c-416e-8ed3-179adfe1c862",
   "metadata": {},
   "outputs": [
    {
     "name": "stdout",
     "output_type": "stream",
     "text": [
      "X_train shape: (1616, 50, 7)\n",
      "y_train shape: (1616,)\n",
      "X_test shape: (783, 50, 7)\n",
      "y_test shape: (783,)\n"
     ]
    }
   ],
   "source": [
    "print(\"X_train shape:\", X3_train.shape)\n",
    "print(\"y_train shape:\", y3_train.shape)\n",
    "print(\"X_test shape:\", X3_test.shape)\n",
    "print(\"y_test shape:\", y3_test.shape)\n",
    "n_timesteps = X3_train.shape[1]\n",
    "n_features = X3_train.shape[2]"
   ]
  },
  {
   "cell_type": "code",
   "execution_count": 192,
   "id": "60520228-6831-44a1-ad44-a5222d8fb80d",
   "metadata": {},
   "outputs": [],
   "source": [
    "#HERE I AM BUILDING AN LSTM Recurrent Neural Network TO HOPEFULLY CAPTURE THE SEQUENTIAL NATURE OF THE DATA\n",
    "lstm = keras.models.Sequential([\n",
    "    keras.layers.LSTM(50, return_sequences=True),\n",
    "    keras.layers.TimeDistributed(keras.layers.Dense(1))\n",
    "])\n",
    "\n",
    "lstm.compile(loss=\"mse\", optimizer=\"adam\")\n"
   ]
  },
  {
   "cell_type": "code",
   "execution_count": 193,
   "id": "43782872-45e7-4dcf-9b77-ab73051d887f",
   "metadata": {},
   "outputs": [
    {
     "name": "stdout",
     "output_type": "stream",
     "text": [
      "Epoch 1/20\n",
      "\u001b[1m48/48\u001b[0m \u001b[32m━━━━━━━━━━━━━━━━━━━━\u001b[0m\u001b[37m\u001b[0m \u001b[1m4s\u001b[0m 31ms/step - loss: 0.0963 - val_loss: 0.0126\n",
      "Epoch 2/20\n",
      "\u001b[1m48/48\u001b[0m \u001b[32m━━━━━━━━━━━━━━━━━━━━\u001b[0m\u001b[37m\u001b[0m \u001b[1m1s\u001b[0m 17ms/step - loss: 0.0113 - val_loss: 0.0093\n",
      "Epoch 3/20\n",
      "\u001b[1m48/48\u001b[0m \u001b[32m━━━━━━━━━━━━━━━━━━━━\u001b[0m\u001b[37m\u001b[0m \u001b[1m1s\u001b[0m 17ms/step - loss: 0.0087 - val_loss: 0.0074\n",
      "Epoch 4/20\n",
      "\u001b[1m48/48\u001b[0m \u001b[32m━━━━━━━━━━━━━━━━━━━━\u001b[0m\u001b[37m\u001b[0m \u001b[1m1s\u001b[0m 17ms/step - loss: 0.0071 - val_loss: 0.0061\n",
      "Epoch 5/20\n",
      "\u001b[1m48/48\u001b[0m \u001b[32m━━━━━━━━━━━━━━━━━━━━\u001b[0m\u001b[37m\u001b[0m \u001b[1m1s\u001b[0m 17ms/step - loss: 0.0061 - val_loss: 0.0053\n",
      "Epoch 6/20\n",
      "\u001b[1m48/48\u001b[0m \u001b[32m━━━━━━━━━━━━━━━━━━━━\u001b[0m\u001b[37m\u001b[0m \u001b[1m1s\u001b[0m 19ms/step - loss: 0.0053 - val_loss: 0.0046\n",
      "Epoch 7/20\n",
      "\u001b[1m48/48\u001b[0m \u001b[32m━━━━━━━━━━━━━━━━━━━━\u001b[0m\u001b[37m\u001b[0m \u001b[1m1s\u001b[0m 17ms/step - loss: 0.0047 - val_loss: 0.0041\n",
      "Epoch 8/20\n",
      "\u001b[1m48/48\u001b[0m \u001b[32m━━━━━━━━━━━━━━━━━━━━\u001b[0m\u001b[37m\u001b[0m \u001b[1m1s\u001b[0m 17ms/step - loss: 0.0042 - val_loss: 0.0037\n",
      "Epoch 9/20\n",
      "\u001b[1m48/48\u001b[0m \u001b[32m━━━━━━━━━━━━━━━━━━━━\u001b[0m\u001b[37m\u001b[0m \u001b[1m1s\u001b[0m 16ms/step - loss: 0.0039 - val_loss: 0.0034\n",
      "Epoch 10/20\n",
      "\u001b[1m48/48\u001b[0m \u001b[32m━━━━━━━━━━━━━━━━━━━━\u001b[0m\u001b[37m\u001b[0m \u001b[1m1s\u001b[0m 17ms/step - loss: 0.0036 - val_loss: 0.0031\n",
      "Epoch 11/20\n",
      "\u001b[1m48/48\u001b[0m \u001b[32m━━━━━━━━━━━━━━━━━━━━\u001b[0m\u001b[37m\u001b[0m \u001b[1m1s\u001b[0m 19ms/step - loss: 0.0034 - val_loss: 0.0029\n",
      "Epoch 12/20\n",
      "\u001b[1m48/48\u001b[0m \u001b[32m━━━━━━━━━━━━━━━━━━━━\u001b[0m\u001b[37m\u001b[0m \u001b[1m1s\u001b[0m 18ms/step - loss: 0.0032 - val_loss: 0.0030\n",
      "Epoch 13/20\n",
      "\u001b[1m48/48\u001b[0m \u001b[32m━━━━━━━━━━━━━━━━━━━━\u001b[0m\u001b[37m\u001b[0m \u001b[1m1s\u001b[0m 21ms/step - loss: 0.0030 - val_loss: 0.0026\n",
      "Epoch 14/20\n",
      "\u001b[1m48/48\u001b[0m \u001b[32m━━━━━━━━━━━━━━━━━━━━\u001b[0m\u001b[37m\u001b[0m \u001b[1m1s\u001b[0m 18ms/step - loss: 0.0029 - val_loss: 0.0024\n",
      "Epoch 15/20\n",
      "\u001b[1m48/48\u001b[0m \u001b[32m━━━━━━━━━━━━━━━━━━━━\u001b[0m\u001b[37m\u001b[0m \u001b[1m1s\u001b[0m 17ms/step - loss: 0.0028 - val_loss: 0.0023\n",
      "Epoch 16/20\n",
      "\u001b[1m48/48\u001b[0m \u001b[32m━━━━━━━━━━━━━━━━━━━━\u001b[0m\u001b[37m\u001b[0m \u001b[1m1s\u001b[0m 17ms/step - loss: 0.0027 - val_loss: 0.0023\n",
      "Epoch 17/20\n",
      "\u001b[1m48/48\u001b[0m \u001b[32m━━━━━━━━━━━━━━━━━━━━\u001b[0m\u001b[37m\u001b[0m \u001b[1m1s\u001b[0m 17ms/step - loss: 0.0026 - val_loss: 0.0022\n",
      "Epoch 18/20\n",
      "\u001b[1m48/48\u001b[0m \u001b[32m━━━━━━━━━━━━━━━━━━━━\u001b[0m\u001b[37m\u001b[0m \u001b[1m1s\u001b[0m 18ms/step - loss: 0.0025 - val_loss: 0.0021\n",
      "Epoch 19/20\n",
      "\u001b[1m48/48\u001b[0m \u001b[32m━━━━━━━━━━━━━━━━━━━━\u001b[0m\u001b[37m\u001b[0m \u001b[1m1s\u001b[0m 16ms/step - loss: 0.0025 - val_loss: 0.0021\n",
      "Epoch 20/20\n",
      "\u001b[1m48/48\u001b[0m \u001b[32m━━━━━━━━━━━━━━━━━━━━\u001b[0m\u001b[37m\u001b[0m \u001b[1m1s\u001b[0m 16ms/step - loss: 0.0024 - val_loss: 0.0020\n"
     ]
    }
   ],
   "source": [
    "history = lstm.fit(X3_train, y3_train,epochs=20,batch_size=32,validation_split=0.05, verbose=1)\n"
   ]
  },
  {
   "cell_type": "code",
   "execution_count": 194,
   "id": "e16c1840-99ea-43aa-be02-0be71581e8a8",
   "metadata": {},
   "outputs": [
    {
     "name": "stdout",
     "output_type": "stream",
     "text": [
      "\u001b[1m25/25\u001b[0m \u001b[32m━━━━━━━━━━━━━━━━━━━━\u001b[0m\u001b[37m\u001b[0m \u001b[1m1s\u001b[0m 27ms/step\n"
     ]
    }
   ],
   "source": [
    "y_pred_lstm = lstm.predict(X3_test)\n",
    "# Create an empty array to hold the inverse transformed values\n",
    "y_test_unscaled = np.zeros(shape=(len(y3_test), lstmdata.shape[1]))\n",
    "y_pred_unscaled = np.zeros(shape=(len(y_pred_lstm), lstmdata.shape[1]))\n",
    "# Replace the first column with the target values\n",
    "y_test_unscaled[:, 0] = y3_test\n",
    "y_pred_unscaled[:, 0] = y_pred_lstm[:, -1, 0]\n",
    "\n",
    "# Inverse transform the data\n",
    "y_test_unscaled = scaler.inverse_transform(y_test_unscaled)[:, 0]\n",
    "y_pred_unscaled = scaler.inverse_transform(y_pred_unscaled)[:, 0]\n"
   ]
  },
  {
   "cell_type": "code",
   "execution_count": 195,
   "id": "522de364-ca5f-4453-bdf2-37c2863eac9d",
   "metadata": {},
   "outputs": [
    {
     "name": "stdout",
     "output_type": "stream",
     "text": [
      "Mean Squared Error: 1693.5344\n",
      "Root Mean Squared Error: 41.1526\n"
     ]
    }
   ],
   "source": [
    "mse = mean_squared_error(y_test_unscaled, y_pred_unscaled)\n",
    "rmse = np.sqrt(mse)\n",
    "print(f\"Mean Squared Error: {mse:.4f}\")\n",
    "print(f\"Root Mean Squared Error: {rmse:.4f}\")"
   ]
  },
  {
   "cell_type": "code",
   "execution_count": null,
   "id": "37dfee35-7c54-4321-9aa6-956dd6c81935",
   "metadata": {},
   "outputs": [],
   "source": []
  },
  {
   "cell_type": "code",
   "execution_count": null,
   "id": "6ef711d9-60a5-41cc-bc69-6b2ea0e72824",
   "metadata": {},
   "outputs": [],
   "source": []
  },
  {
   "cell_type": "code",
   "execution_count": null,
   "id": "89c2eec4-c2a5-4631-a969-218dd6fa6958",
   "metadata": {},
   "outputs": [],
   "source": []
  }
 ],
 "metadata": {
  "kernelspec": {
   "display_name": "Python 3 (ipykernel)",
   "language": "python",
   "name": "python3"
  },
  "language_info": {
   "codemirror_mode": {
    "name": "ipython",
    "version": 3
   },
   "file_extension": ".py",
   "mimetype": "text/x-python",
   "name": "python",
   "nbconvert_exporter": "python",
   "pygments_lexer": "ipython3",
   "version": "3.10.18"
  }
 },
 "nbformat": 4,
 "nbformat_minor": 5
}
